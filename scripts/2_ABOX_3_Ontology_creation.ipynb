{
  "cells": [
    {
      "cell_type": "code",
      "execution_count": 1,
      "metadata": {
        "colab": {
          "base_uri": "https://localhost:8080/"
        },
        "id": "HJLKnZeWBsgv",
        "outputId": "e37a9bc9-60a7-4a91-dac1-b885efd2d2b5"
      },
      "outputs": [],
      "source": [
        "# pip install rdflib"
      ]
    },
    {
      "cell_type": "code",
      "execution_count": 2,
      "metadata": {
        "id": "hekRcO0G_Qzn"
      },
      "outputs": [],
      "source": [
        "import pandas as pd\n",
        "import numpy as np\n",
        "import random\n",
        "import csv\n",
        "import os\n",
        "from itertools import islice\n",
        "import urllib.parse\n",
        "from rdflib import Graph\n",
        "from rdflib import Literal\n",
        "from rdflib import Namespace\n",
        "from rdflib.namespace import RDF, RDFS, FOAF, XSD, URIRef"
      ]
    },
    {
      "cell_type": "code",
      "execution_count": 3,
      "metadata": {
        "id": "85ywbdjgAyjs"
      },
      "outputs": [],
      "source": [
        "URI = Namespace(\"http://SDM_lab_2.org/\")\n",
        "g = Graph()\n"
      ]
    },
    {
      "cell_type": "code",
      "execution_count": 4,
      "metadata": {
        "colab": {
          "base_uri": "https://localhost:8080/"
        },
        "id": "BP2F7DjvSU5q",
        "outputId": "c6063f56-8297-4688-81ed-fec604caba5a"
      },
      "outputs": [
        {
          "name": "stdout",
          "output_type": "stream",
          "text": [
            "paper_cite_paper\n",
            "journal_in_year\n",
            "proceeding_in_year\n",
            "scopus_500\n",
            "authors\n",
            "paper_in_year\n",
            "journal\n",
            "sample\n",
            "paper_in_proceedings\n",
            "paper_has_keywords\n",
            "author_write\n",
            "year\n",
            "paper_belong_to_journal\n",
            "conference\n",
            "proceeding\n",
            "paper\n",
            "paper_belong_to_proceeding\n",
            "keywords\n",
            "paper_presented_in_conference\n",
            "conference_detail\n",
            "author_review\n"
          ]
        }
      ],
      "source": [
        "csv_dir = '/Users/zzy13/Desktop/Classes_at_UPC/SDM_Semantic_data_management/Lab_2/Lab_doc/data/CSVs/' \n",
        "\n",
        "csv_files = [f for f in os.listdir(csv_dir) if f.endswith('.csv')]\n",
        "\n",
        "dataframes = {}\n",
        "for csv_file in csv_files:\n",
        "    file_path = os.path.join(csv_dir, csv_file)\n",
        "    df_name = os.path.splitext(csv_file)[0].replace('-', '_')\n",
        "    dataframes[df_name] = pd.read_csv(file_path)\n",
        "\n",
        "for df_name in dataframes.keys():\n",
        "    print(df_name)"
      ]
    },
    {
      "cell_type": "markdown",
      "metadata": {},
      "source": [
        "### Author -- [Write] --> ResearchPaper\n",
        "<!-- ### Author -- [CorrespondingAuthor] --/> ResearchPaper -->"
      ]
    },
    {
      "cell_type": "code",
      "execution_count": 5,
      "metadata": {},
      "outputs": [
        {
          "data": {
            "text/html": [
              "<div>\n",
              "<style scoped>\n",
              "    .dataframe tbody tr th:only-of-type {\n",
              "        vertical-align: middle;\n",
              "    }\n",
              "\n",
              "    .dataframe tbody tr th {\n",
              "        vertical-align: top;\n",
              "    }\n",
              "\n",
              "    .dataframe thead th {\n",
              "        text-align: right;\n",
              "    }\n",
              "</style>\n",
              "<table border=\"1\" class=\"dataframe\">\n",
              "  <thead>\n",
              "    <tr style=\"text-align: right;\">\n",
              "      <th></th>\n",
              "      <th>author_id</th>\n",
              "      <th>paper_id</th>\n",
              "      <th>corresponding</th>\n",
              "    </tr>\n",
              "  </thead>\n",
              "  <tbody>\n",
              "    <tr>\n",
              "      <th>0</th>\n",
              "      <td>57219571200</td>\n",
              "      <td>10.1002/asi.24855</td>\n",
              "      <td>True</td>\n",
              "    </tr>\n",
              "    <tr>\n",
              "      <th>1</th>\n",
              "      <td>35726817600</td>\n",
              "      <td>10.3390/s24041209</td>\n",
              "      <td>True</td>\n",
              "    </tr>\n",
              "    <tr>\n",
              "      <th>2</th>\n",
              "      <td>58897160900</td>\n",
              "      <td>10.3390/s24041209</td>\n",
              "      <td>False</td>\n",
              "    </tr>\n",
              "  </tbody>\n",
              "</table>\n",
              "</div>"
            ],
            "text/plain": [
              "     author_id           paper_id  corresponding\n",
              "0  57219571200  10.1002/asi.24855           True\n",
              "1  35726817600  10.3390/s24041209           True\n",
              "2  58897160900  10.3390/s24041209          False"
            ]
          },
          "execution_count": 5,
          "metadata": {},
          "output_type": "execute_result"
        }
      ],
      "source": [
        "dataframes['author_write'].head(3)"
      ]
    },
    {
      "cell_type": "code",
      "execution_count": 6,
      "metadata": {},
      "outputs": [],
      "source": [
        "g.add((URI.Author, URI.Write, URI.ResearchPaper)) \n",
        "\n",
        "def Write_process(df):\n",
        "    for _, record in df.iterrows():\n",
        "        # Create URIs\n",
        "        Author_id_uri = URIRef(URI.Author + \"_\" + str(record['author_id']))\n",
        "        ResearchPaper_id_uri = URIRef(URI.ResearchPaper + \"_\" + str(record['paper_id']))\n",
        "        \n",
        "        g.add((Author_id_uri, RDF.type, URI.Author))\n",
        "        g.add((ResearchPaper_id_uri, RDF.type, URI.ResearchPaper))\n",
        "        \n",
        "        g.add((Author_id_uri, URI.Write, ResearchPaper_id_uri))\n",
        "        \n",
        "\n",
        "Write_process(dataframes['author_write'])\n"
      ]
    },
    {
      "cell_type": "markdown",
      "metadata": {},
      "source": [
        "### ResearchPaper --[submitted] --> SubmittedPaper"
      ]
    },
    {
      "cell_type": "code",
      "execution_count": 7,
      "metadata": {},
      "outputs": [
        {
          "data": {
            "text/html": [
              "<div>\n",
              "<style scoped>\n",
              "    .dataframe tbody tr th:only-of-type {\n",
              "        vertical-align: middle;\n",
              "    }\n",
              "\n",
              "    .dataframe tbody tr th {\n",
              "        vertical-align: top;\n",
              "    }\n",
              "\n",
              "    .dataframe thead th {\n",
              "        text-align: right;\n",
              "    }\n",
              "</style>\n",
              "<table border=\"1\" class=\"dataframe\">\n",
              "  <thead>\n",
              "    <tr style=\"text-align: right;\">\n",
              "      <th></th>\n",
              "      <th>title</th>\n",
              "      <th>abstract</th>\n",
              "      <th>pages</th>\n",
              "      <th>DOI</th>\n",
              "      <th>link</th>\n",
              "      <th>year</th>\n",
              "    </tr>\n",
              "  </thead>\n",
              "  <tbody>\n",
              "    <tr>\n",
              "      <th>0</th>\n",
              "      <td>Challenges posed by hijacked journals in Scopus</td>\n",
              "      <td>This study presents and explains the phenomeno...</td>\n",
              "      <td>395-422</td>\n",
              "      <td>10.1002/asi.24855</td>\n",
              "      <td>https://www.scopus.com/inward/record.uri?eid=2...</td>\n",
              "      <td>2023</td>\n",
              "    </tr>\n",
              "    <tr>\n",
              "      <th>1</th>\n",
              "      <td>Normalizing Large Scale Sensor-Based MWD Data:...</td>\n",
              "      <td>In the context of geo-infrastructures and spec...</td>\n",
              "      <td>-</td>\n",
              "      <td>10.3390/s24041209</td>\n",
              "      <td>https://www.scopus.com/inward/record.uri?eid=2...</td>\n",
              "      <td>2022</td>\n",
              "    </tr>\n",
              "    <tr>\n",
              "      <th>2</th>\n",
              "      <td>Instant learning based on deep neural network ...</td>\n",
              "      <td>Biometric-based identity verification systems ...</td>\n",
              "      <td>32099-32122</td>\n",
              "      <td>10.1007/s11042-023-16751-6</td>\n",
              "      <td>https://www.scopus.com/inward/record.uri?eid=2...</td>\n",
              "      <td>2024</td>\n",
              "    </tr>\n",
              "  </tbody>\n",
              "</table>\n",
              "</div>"
            ],
            "text/plain": [
              "                                               title  \\\n",
              "0    Challenges posed by hijacked journals in Scopus   \n",
              "1  Normalizing Large Scale Sensor-Based MWD Data:...   \n",
              "2  Instant learning based on deep neural network ...   \n",
              "\n",
              "                                            abstract        pages  \\\n",
              "0  This study presents and explains the phenomeno...      395-422   \n",
              "1  In the context of geo-infrastructures and spec...            -   \n",
              "2  Biometric-based identity verification systems ...  32099-32122   \n",
              "\n",
              "                          DOI  \\\n",
              "0           10.1002/asi.24855   \n",
              "1           10.3390/s24041209   \n",
              "2  10.1007/s11042-023-16751-6   \n",
              "\n",
              "                                                link  year  \n",
              "0  https://www.scopus.com/inward/record.uri?eid=2...  2023  \n",
              "1  https://www.scopus.com/inward/record.uri?eid=2...  2022  \n",
              "2  https://www.scopus.com/inward/record.uri?eid=2...  2024  "
            ]
          },
          "execution_count": 7,
          "metadata": {},
          "output_type": "execute_result"
        }
      ],
      "source": [
        "dataframes['paper'].head(3)"
      ]
    },
    {
      "cell_type": "code",
      "execution_count": 8,
      "metadata": {},
      "outputs": [],
      "source": [
        "g.add((URI.ResearchPaper, URI.Submitted, URI.SubmittedPaper)) \n",
        "\n",
        "g.add((URI.ResearchPaper, URI.PaperTitle, XSD.string)) \n",
        "\n",
        "g.add((URI.ResearchPaper, URI.PaperAbstract, XSD.string)) \n",
        "\n",
        "def Submitted_process(df):\n",
        "    for _, record in df.iterrows():\n",
        "        # Create URIs\n",
        "        paper_id_uri = URIRef(URI.ResearchPaper + \"_\" + str(record['DOI']))\n",
        "        submitted_paper_id_uri = URIRef(URI.SubmittedPaper + \"_\" + str(record['DOI']))\n",
        "        \n",
        "        g.add((submitted_paper_id_uri, RDF.type, URI.SubmittedPaper))\n",
        "\n",
        "        # Add the relationship to the graph\n",
        "        g.add((paper_id_uri, URI.Submitted, submitted_paper_id_uri))\n",
        "\n",
        "        g.add((paper_id_uri, URI.PaperTitle, Literal(record['title'], datatype=XSD.string))) \n",
        "        g.add((paper_id_uri, URI.PaperAbstract, Literal(record['abstract'], datatype=XSD.string))) \n",
        "        \n",
        "Submitted_process(dataframes['paper'])"
      ]
    },
    {
      "cell_type": "markdown",
      "metadata": {},
      "source": [
        "### ResearchPaper --[Cites] --> ResearchPaper"
      ]
    },
    {
      "cell_type": "code",
      "execution_count": 9,
      "metadata": {},
      "outputs": [
        {
          "data": {
            "text/html": [
              "<div>\n",
              "<style scoped>\n",
              "    .dataframe tbody tr th:only-of-type {\n",
              "        vertical-align: middle;\n",
              "    }\n",
              "\n",
              "    .dataframe tbody tr th {\n",
              "        vertical-align: top;\n",
              "    }\n",
              "\n",
              "    .dataframe thead th {\n",
              "        text-align: right;\n",
              "    }\n",
              "</style>\n",
              "<table border=\"1\" class=\"dataframe\">\n",
              "  <thead>\n",
              "    <tr style=\"text-align: right;\">\n",
              "      <th></th>\n",
              "      <th>start_id</th>\n",
              "      <th>end_id</th>\n",
              "    </tr>\n",
              "  </thead>\n",
              "  <tbody>\n",
              "    <tr>\n",
              "      <th>0</th>\n",
              "      <td>10.1002/asi.24855</td>\n",
              "      <td>10.4230/LIPIcs.ICDT.2024.23</td>\n",
              "    </tr>\n",
              "    <tr>\n",
              "      <th>1</th>\n",
              "      <td>10.1002/asi.24855</td>\n",
              "      <td>10.1109/SSI58917.2023.10387755</td>\n",
              "    </tr>\n",
              "    <tr>\n",
              "      <th>2</th>\n",
              "      <td>10.1002/asi.24855</td>\n",
              "      <td>10.4230/LIPIcs.ICDT.2023.14</td>\n",
              "    </tr>\n",
              "  </tbody>\n",
              "</table>\n",
              "</div>"
            ],
            "text/plain": [
              "            start_id                          end_id\n",
              "0  10.1002/asi.24855     10.4230/LIPIcs.ICDT.2024.23\n",
              "1  10.1002/asi.24855  10.1109/SSI58917.2023.10387755\n",
              "2  10.1002/asi.24855     10.4230/LIPIcs.ICDT.2023.14"
            ]
          },
          "execution_count": 9,
          "metadata": {},
          "output_type": "execute_result"
        }
      ],
      "source": [
        "dataframes['paper_cite_paper'].head(3)"
      ]
    },
    {
      "cell_type": "code",
      "execution_count": 10,
      "metadata": {},
      "outputs": [],
      "source": [
        "g.add((URI.ResearchPaper, URI.Cites, URI.ResearchPaper))\n",
        "\n",
        "def paper_cites(df):\n",
        "    for _, record in df.iterrows():\n",
        "        # Create URIs\n",
        "        paper_id_uri = URIRef(URI.ResearchPaper + \"_\" + str(record['start_id']))\n",
        "        cites_uri = URIRef(URI.ResearchPaper + \"_\" + str(record['end_id']))\n",
        "        # Add the relationship to the graph\n",
        "        g.add((paper_id_uri, URI.Cites, cites_uri))\n",
        "\n",
        "paper_cites(dataframes['paper_cite_paper'])"
      ]
    },
    {
      "cell_type": "markdown",
      "metadata": {},
      "source": [
        "### ResearchPaper --[HasTopics] --> Topics"
      ]
    },
    {
      "cell_type": "code",
      "execution_count": 11,
      "metadata": {},
      "outputs": [
        {
          "data": {
            "text/html": [
              "<div>\n",
              "<style scoped>\n",
              "    .dataframe tbody tr th:only-of-type {\n",
              "        vertical-align: middle;\n",
              "    }\n",
              "\n",
              "    .dataframe tbody tr th {\n",
              "        vertical-align: top;\n",
              "    }\n",
              "\n",
              "    .dataframe thead th {\n",
              "        text-align: right;\n",
              "    }\n",
              "</style>\n",
              "<table border=\"1\" class=\"dataframe\">\n",
              "  <thead>\n",
              "    <tr style=\"text-align: right;\">\n",
              "      <th></th>\n",
              "      <th>paper_id</th>\n",
              "      <th>keywords</th>\n",
              "    </tr>\n",
              "  </thead>\n",
              "  <tbody>\n",
              "    <tr>\n",
              "      <th>0</th>\n",
              "      <td>10.3390/s24041209</td>\n",
              "      <td>filtering process</td>\n",
              "    </tr>\n",
              "    <tr>\n",
              "      <th>1</th>\n",
              "      <td>10.3390/s24041209</td>\n",
              "      <td>measurement while drilling (MWD)</td>\n",
              "    </tr>\n",
              "    <tr>\n",
              "      <th>2</th>\n",
              "      <td>10.3390/s24041209</td>\n",
              "      <td>normalizing index</td>\n",
              "    </tr>\n",
              "  </tbody>\n",
              "</table>\n",
              "</div>"
            ],
            "text/plain": [
              "            paper_id                          keywords\n",
              "0  10.3390/s24041209                 filtering process\n",
              "1  10.3390/s24041209  measurement while drilling (MWD)\n",
              "2  10.3390/s24041209                 normalizing index"
            ]
          },
          "execution_count": 11,
          "metadata": {},
          "output_type": "execute_result"
        }
      ],
      "source": [
        "dataframes['paper_has_keywords'].head(3)"
      ]
    },
    {
      "cell_type": "code",
      "execution_count": 12,
      "metadata": {},
      "outputs": [],
      "source": [
        "g.add((URI.ResearchPaper, URI.HasTopics, URI.Topics))\n",
        "\n",
        "def paper_topics(df):\n",
        "    for _, record in df.iterrows():\n",
        "        # Create URIs\n",
        "        paper_id_uri = URIRef(URI.ResearchPaper + \"_\" + str(record['paper_id']))\n",
        "        topics_uri = URIRef(URI.Topics + \"_\" + urllib.parse.quote(record['keywords']))\n",
        "        # Add the relationship to the graph\n",
        "        g.add((topics_uri, RDF.type, URI.Topics))\n",
        "        g.add((paper_id_uri, URI.HasTopics, topics_uri))\n",
        "\n",
        "paper_topics(dataframes['paper_has_keywords'])"
      ]
    },
    {
      "cell_type": "markdown",
      "metadata": {},
      "source": [
        "### Conference, Workshop, Proceeding, RegularConference, Venue"
      ]
    },
    {
      "cell_type": "code",
      "execution_count": 13,
      "metadata": {},
      "outputs": [
        {
          "data": {
            "text/html": [
              "<div>\n",
              "<style scoped>\n",
              "    .dataframe tbody tr th:only-of-type {\n",
              "        vertical-align: middle;\n",
              "    }\n",
              "\n",
              "    .dataframe tbody tr th {\n",
              "        vertical-align: top;\n",
              "    }\n",
              "\n",
              "    .dataframe thead th {\n",
              "        text-align: right;\n",
              "    }\n",
              "</style>\n",
              "<table border=\"1\" class=\"dataframe\">\n",
              "  <thead>\n",
              "    <tr style=\"text-align: right;\">\n",
              "      <th></th>\n",
              "      <th>name</th>\n",
              "      <th>year</th>\n",
              "      <th>city</th>\n",
              "      <th>proceeding_name</th>\n",
              "      <th>ConferenceType</th>\n",
              "    </tr>\n",
              "  </thead>\n",
              "  <tbody>\n",
              "    <tr>\n",
              "      <th>0</th>\n",
              "      <td>1st IEEE Colombian Caribbean Conference, C3 2023</td>\n",
              "      <td>2021</td>\n",
              "      <td>Barranquilla</td>\n",
              "      <td>1st IEEE Colombian Caribbean Conference, C3 2023</td>\n",
              "      <td>RegularConference</td>\n",
              "    </tr>\n",
              "    <tr>\n",
              "      <th>1</th>\n",
              "      <td>2023 International Conference on Innovation an...</td>\n",
              "      <td>2023</td>\n",
              "      <td>Virtual, Online</td>\n",
              "      <td>2023 International Conference on Innovation an...</td>\n",
              "      <td>RegularConference</td>\n",
              "    </tr>\n",
              "    <tr>\n",
              "      <th>2</th>\n",
              "      <td>20th Free and Open Source Software for Geospat...</td>\n",
              "      <td>2023</td>\n",
              "      <td>Prizren</td>\n",
              "      <td>20th Free and Open Source Software for Geospat...</td>\n",
              "      <td>RegularConference</td>\n",
              "    </tr>\n",
              "    <tr>\n",
              "      <th>3</th>\n",
              "      <td>3rd International Conference on Machine Learni...</td>\n",
              "      <td>2023</td>\n",
              "      <td>NaN</td>\n",
              "      <td>3rd International Conference on Machine Learni...</td>\n",
              "      <td>RegularConference</td>\n",
              "    </tr>\n",
              "    <tr>\n",
              "      <th>4</th>\n",
              "      <td>ACM ASIA Conference on Computer and Communicat...</td>\n",
              "      <td>2024</td>\n",
              "      <td>Melbourne</td>\n",
              "      <td>18th ACM ASIA Conference on Computer and Commu...</td>\n",
              "      <td>RegularConference</td>\n",
              "    </tr>\n",
              "  </tbody>\n",
              "</table>\n",
              "</div>"
            ],
            "text/plain": [
              "                                                name  year             city  \\\n",
              "0   1st IEEE Colombian Caribbean Conference, C3 2023  2021     Barranquilla   \n",
              "1  2023 International Conference on Innovation an...  2023  Virtual, Online   \n",
              "2  20th Free and Open Source Software for Geospat...  2023          Prizren   \n",
              "3  3rd International Conference on Machine Learni...  2023              NaN   \n",
              "4  ACM ASIA Conference on Computer and Communicat...  2024        Melbourne   \n",
              "\n",
              "                                     proceeding_name     ConferenceType  \n",
              "0   1st IEEE Colombian Caribbean Conference, C3 2023  RegularConference  \n",
              "1  2023 International Conference on Innovation an...  RegularConference  \n",
              "2  20th Free and Open Source Software for Geospat...  RegularConference  \n",
              "3  3rd International Conference on Machine Learni...  RegularConference  \n",
              "4  18th ACM ASIA Conference on Computer and Commu...  RegularConference  "
            ]
          },
          "execution_count": 13,
          "metadata": {},
          "output_type": "execute_result"
        }
      ],
      "source": [
        "dataframes['conference_detail'].head(5)"
      ]
    },
    {
      "cell_type": "code",
      "execution_count": 14,
      "metadata": {},
      "outputs": [],
      "source": [
        "g.add((URI.Conference, URI.BelongTo, URI.Proceedings))\n",
        "g.add((URI.Workshop, URI.WorkshopIn, URI.Proceedings))\n",
        "g.add((URI.RegularConference, URI.ConIn, URI.Proceedings))\n",
        "g.add((URI.Proceedings, URI.InVenue, URI.Venue))\n",
        "\n",
        "def process(df):\n",
        "    for _, record in df.iterrows():\n",
        "        # create Conference URI\n",
        "        conference_uri = URIRef(URI.Conference + \"_\" + urllib.parse.quote(str(record.name)))\n",
        "        \n",
        "        # Create conference type URI\n",
        "        conference_type = record['ConferenceType']\n",
        "        if conference_type == 'RegularConference':\n",
        "            conference_type_uri = URI.RegularConference\n",
        "        elif conference_type == 'Workshop':\n",
        "            conference_type_uri = URI.Workshop\n",
        "        else:\n",
        "            conference_type_uri = URI.Conference\n",
        "        \n",
        "        # g.add((conference_uri, RDF.type, URI.Conference))\n",
        "        g.add((conference_uri, RDF.type, conference_type_uri))\n",
        "        \n",
        "        proceeding_name_uri = URIRef(URI.Proceedings + \"_\" + urllib.parse.quote(str(record['proceeding_name'])))\n",
        "        g.add((proceeding_name_uri, RDF.type, URI.Proceedings))\n",
        "\n",
        "        g.add((conference_uri, URI.BelongTo, proceeding_name_uri))\n",
        "\n",
        "        venue_name_uri = URIRef(URI.Venue + \"_\" + urllib.parse.quote(str(record['city'])))\n",
        "        g.add((venue_name_uri, RDF.type, URI.Venue))\n",
        "        g.add((proceeding_name_uri, URI.InVenue, venue_name_uri))\n",
        "\n",
        "process(dataframes['conference_detail'])"
      ]
    },
    {
      "cell_type": "markdown",
      "metadata": {},
      "source": [
        "### ResearchPaper --[IsInProceeding] --> Proceedings"
      ]
    },
    {
      "cell_type": "code",
      "execution_count": 15,
      "metadata": {},
      "outputs": [
        {
          "data": {
            "text/html": [
              "<div>\n",
              "<style scoped>\n",
              "    .dataframe tbody tr th:only-of-type {\n",
              "        vertical-align: middle;\n",
              "    }\n",
              "\n",
              "    .dataframe tbody tr th {\n",
              "        vertical-align: top;\n",
              "    }\n",
              "\n",
              "    .dataframe thead th {\n",
              "        text-align: right;\n",
              "    }\n",
              "</style>\n",
              "<table border=\"1\" class=\"dataframe\">\n",
              "  <thead>\n",
              "    <tr style=\"text-align: right;\">\n",
              "      <th></th>\n",
              "      <th>start_id</th>\n",
              "      <th>end_id</th>\n",
              "    </tr>\n",
              "  </thead>\n",
              "  <tbody>\n",
              "    <tr>\n",
              "      <th>0</th>\n",
              "      <td>10.1109/ICICIS56802.2023.10430275</td>\n",
              "      <td>2023 International Conference on Integration o...</td>\n",
              "    </tr>\n",
              "    <tr>\n",
              "      <th>1</th>\n",
              "      <td>10.1145/3592307.3592335</td>\n",
              "      <td>6th International Conference on Electronics, C...</td>\n",
              "    </tr>\n",
              "    <tr>\n",
              "      <th>2</th>\n",
              "      <td>10.1109/NEleX59773.2023.10421720</td>\n",
              "      <td>2023 IEEE International Conference on Next Gen...</td>\n",
              "    </tr>\n",
              "  </tbody>\n",
              "</table>\n",
              "</div>"
            ],
            "text/plain": [
              "                            start_id  \\\n",
              "0  10.1109/ICICIS56802.2023.10430275   \n",
              "1            10.1145/3592307.3592335   \n",
              "2   10.1109/NEleX59773.2023.10421720   \n",
              "\n",
              "                                              end_id  \n",
              "0  2023 International Conference on Integration o...  \n",
              "1  6th International Conference on Electronics, C...  \n",
              "2  2023 IEEE International Conference on Next Gen...  "
            ]
          },
          "execution_count": 15,
          "metadata": {},
          "output_type": "execute_result"
        }
      ],
      "source": [
        "dataframes['paper_in_proceedings'].head(3)"
      ]
    },
    {
      "cell_type": "code",
      "execution_count": 16,
      "metadata": {},
      "outputs": [],
      "source": [
        "g.add((URI.ResearchPaper, URI.IsInProceeding, URI.Proceedings))\n",
        "\n",
        "def paper_in_proceeding(df):\n",
        "    for _, record in df.iterrows():\n",
        "        # Create URIs\n",
        "        paper_id_uri = URIRef(URI.ResearchPaper + \"_\" + str(record['start_id']))\n",
        "        proceeding_uri = URIRef(URI.Proceedings + \"_\" + urllib.parse.quote(str(record['end_id'])))\n",
        "        # Add the relationship to the graph\n",
        "        g.add((paper_id_uri, URI.IsInProceeding, proceeding_uri))\n",
        "\n",
        "paper_in_proceeding(dataframes['paper_belong_to_proceeding'])"
      ]
    },
    {
      "cell_type": "markdown",
      "metadata": {},
      "source": [
        "### ResearchPaper --[IsInJournal] --> Volumes\n",
        "### Journal -- [OfJournal] --> Volumes"
      ]
    },
    {
      "cell_type": "code",
      "execution_count": 17,
      "metadata": {},
      "outputs": [
        {
          "data": {
            "text/html": [
              "<div>\n",
              "<style scoped>\n",
              "    .dataframe tbody tr th:only-of-type {\n",
              "        vertical-align: middle;\n",
              "    }\n",
              "\n",
              "    .dataframe tbody tr th {\n",
              "        vertical-align: top;\n",
              "    }\n",
              "\n",
              "    .dataframe thead th {\n",
              "        text-align: right;\n",
              "    }\n",
              "</style>\n",
              "<table border=\"1\" class=\"dataframe\">\n",
              "  <thead>\n",
              "    <tr style=\"text-align: right;\">\n",
              "      <th></th>\n",
              "      <th>DOI</th>\n",
              "      <th>journal_name</th>\n",
              "      <th>year</th>\n",
              "      <th>volume</th>\n",
              "    </tr>\n",
              "  </thead>\n",
              "  <tbody>\n",
              "    <tr>\n",
              "      <th>0</th>\n",
              "      <td>10.1002/asi.24855</td>\n",
              "      <td>Journal of the Association for Information Sci...</td>\n",
              "      <td>2023</td>\n",
              "      <td>Journal of the Association for Information Sci...</td>\n",
              "    </tr>\n",
              "    <tr>\n",
              "      <th>1</th>\n",
              "      <td>10.3390/s24041209</td>\n",
              "      <td>Sensors</td>\n",
              "      <td>2022</td>\n",
              "      <td>Sensors2022</td>\n",
              "    </tr>\n",
              "    <tr>\n",
              "      <th>2</th>\n",
              "      <td>10.1007/s11042-023-16751-6</td>\n",
              "      <td>Multimedia Tools and Applications</td>\n",
              "      <td>2024</td>\n",
              "      <td>Multimedia Tools and Applications2024</td>\n",
              "    </tr>\n",
              "  </tbody>\n",
              "</table>\n",
              "</div>"
            ],
            "text/plain": [
              "                          DOI  \\\n",
              "0           10.1002/asi.24855   \n",
              "1           10.3390/s24041209   \n",
              "2  10.1007/s11042-023-16751-6   \n",
              "\n",
              "                                        journal_name  year  \\\n",
              "0  Journal of the Association for Information Sci...  2023   \n",
              "1                                            Sensors  2022   \n",
              "2                  Multimedia Tools and Applications  2024   \n",
              "\n",
              "                                              volume  \n",
              "0  Journal of the Association for Information Sci...  \n",
              "1                                        Sensors2022  \n",
              "2              Multimedia Tools and Applications2024  "
            ]
          },
          "execution_count": 17,
          "metadata": {},
          "output_type": "execute_result"
        }
      ],
      "source": [
        "dataframes['paper_belong_to_journal'].head(3)"
      ]
    },
    {
      "cell_type": "code",
      "execution_count": 18,
      "metadata": {},
      "outputs": [],
      "source": [
        "g.add((URI.ResearchPaper, URI.IsInJournal, URI.Volumes))\n",
        "g.add((URI.Journal, URI.OfJournal, URI.Volumes))\n",
        "\n",
        "def paper_in_journal(df):\n",
        "    for _, record in df.iterrows():\n",
        "        # Create URIs\n",
        "        paper_id_uri = URIRef(URI.ResearchPaper + \"_\" + str(record['DOI']))\n",
        "        volume_uri = URIRef(URI.Volumes + \"_\" + urllib.parse.quote(str(record['volume'])))\n",
        "        journal_uri = URIRef(URI.Journal + \"_\" + urllib.parse.quote(str(record['journal_name'])))\n",
        "        \n",
        "        g.add((volume_uri, RDF.type, URI.Volumes))\n",
        "        g.add((journal_uri, RDF.type, URI.Journal))\n",
        "        # Add the relationship to the graph\n",
        "        g.add((paper_id_uri, URI.IsInJournal, volume_uri))\n",
        "        g.add((journal_uri, URI.OfJournal, volume_uri))\n",
        "\n",
        "paper_in_journal(dataframes['paper_belong_to_journal'])"
      ]
    },
    {
      "cell_type": "markdown",
      "metadata": {},
      "source": [
        "### Reviewer --[WriteReview] --> SubmittedPaper\n",
        "### ReviewText -- [ReviewOf] --> SubmittedPaper"
      ]
    },
    {
      "cell_type": "code",
      "execution_count": 19,
      "metadata": {},
      "outputs": [
        {
          "data": {
            "text/html": [
              "<div>\n",
              "<style scoped>\n",
              "    .dataframe tbody tr th:only-of-type {\n",
              "        vertical-align: middle;\n",
              "    }\n",
              "\n",
              "    .dataframe tbody tr th {\n",
              "        vertical-align: top;\n",
              "    }\n",
              "\n",
              "    .dataframe thead th {\n",
              "        text-align: right;\n",
              "    }\n",
              "</style>\n",
              "<table border=\"1\" class=\"dataframe\">\n",
              "  <thead>\n",
              "    <tr style=\"text-align: right;\">\n",
              "      <th></th>\n",
              "      <th>paper_id</th>\n",
              "      <th>reviewer_id</th>\n",
              "      <th>review_content</th>\n",
              "      <th>accept_possibility</th>\n",
              "    </tr>\n",
              "  </thead>\n",
              "  <tbody>\n",
              "    <tr>\n",
              "      <th>0</th>\n",
              "      <td>10.1002/asi.24855</td>\n",
              "      <td>55445000700</td>\n",
              "      <td>Next certain tend million country compare.</td>\n",
              "      <td>0.254872</td>\n",
              "    </tr>\n",
              "    <tr>\n",
              "      <th>1</th>\n",
              "      <td>10.1002/asi.24855</td>\n",
              "      <td>57946022500</td>\n",
              "      <td>Hold thus safe difficult focus.</td>\n",
              "      <td>0.466417</td>\n",
              "    </tr>\n",
              "    <tr>\n",
              "      <th>2</th>\n",
              "      <td>10.1002/asi.24855</td>\n",
              "      <td>25921550000</td>\n",
              "      <td>Drug fund sure political social.</td>\n",
              "      <td>0.122583</td>\n",
              "    </tr>\n",
              "  </tbody>\n",
              "</table>\n",
              "</div>"
            ],
            "text/plain": [
              "            paper_id  reviewer_id                              review_content  \\\n",
              "0  10.1002/asi.24855  55445000700  Next certain tend million country compare.   \n",
              "1  10.1002/asi.24855  57946022500             Hold thus safe difficult focus.   \n",
              "2  10.1002/asi.24855  25921550000            Drug fund sure political social.   \n",
              "\n",
              "   accept_possibility  \n",
              "0            0.254872  \n",
              "1            0.466417  \n",
              "2            0.122583  "
            ]
          },
          "execution_count": 19,
          "metadata": {},
          "output_type": "execute_result"
        }
      ],
      "source": [
        "dataframes['author_review'].head(3)"
      ]
    },
    {
      "cell_type": "code",
      "execution_count": 20,
      "metadata": {},
      "outputs": [],
      "source": [
        "g.add((URI.Reviewer, URI.WriteReview, URI.SubmittedPaper))\n",
        "g.add((URI.ReviewText, URI.ReviewOf, URI.SubmittedPaper))\n",
        "\n",
        "def review_paper(df):\n",
        "    for _, record in df.iterrows():\n",
        "        # Create URIs\n",
        "        reviewer_uri = URIRef(URI.Reviewer + \"_\" + str(record['reviewer_id']))\n",
        "        review_text_uri = URIRef(URI.ReviewText + \"_\" + urllib.parse.quote(str(record['review_content'])))\n",
        "        submittedpaper_uri = URIRef(URI.SubmittedPaper + \"_\" + str(record['paper_id']))\n",
        "        \n",
        "        g.add((reviewer_uri, RDF.type, URI.Reviewer))\n",
        "        g.add((review_text_uri, RDF.type, URI.ReviewText))\n",
        "        # Add the relationship to the graph\n",
        "        g.add((reviewer_uri, URI.WriteReview, submittedpaper_uri))\n",
        "        g.add((review_text_uri, URI.ReviewOf, submittedpaper_uri))\n",
        "\n",
        "review_paper(dataframes['author_review'])"
      ]
    },
    {
      "cell_type": "markdown",
      "metadata": {
        "id": "hIDXwnzBSLnV"
      },
      "source": [
        "# Export graph"
      ]
    },
    {
      "cell_type": "code",
      "execution_count": 21,
      "metadata": {
        "colab": {
          "base_uri": "https://localhost:8080/"
        },
        "id": "WaygSMKdS6IX",
        "outputId": "68e6712b-28bd-40f5-81cd-bbb53c2fb4b3"
      },
      "outputs": [
        {
          "name": "stdout",
          "output_type": "stream",
          "text": [
            "(rdflib.term.URIRef('http://SDM_lab_2.org/ResearchPaper_10.12694/scpe.v25i1.2296'), rdflib.term.URIRef('http://SDM_lab_2.org/HasTopics'), rdflib.term.URIRef('http://SDM_lab_2.org/Topics_Emotional%20characteristics'))\n",
            "(rdflib.term.URIRef('http://SDM_lab_2.org/ResearchPaper_10.1145/3616712.3616791'), rdflib.term.URIRef('http://SDM_lab_2.org/Cites'), rdflib.term.URIRef('http://SDM_lab_2.org/ResearchPaper_10.48786/edbt.2023.74'))\n",
            "(rdflib.term.URIRef('http://SDM_lab_2.org/ResearchPaper_10.3233/JIFS-223030'), rdflib.term.URIRef('http://SDM_lab_2.org/Cites'), rdflib.term.URIRef('http://SDM_lab_2.org/ResearchPaper_10.1109/JIOT.2023.3327738'))\n",
            "(rdflib.term.URIRef('http://SDM_lab_2.org/ResearchPaper_10.1109/MITS.2023.3346842'), rdflib.term.URIRef('http://SDM_lab_2.org/Cites'), rdflib.term.URIRef('http://SDM_lab_2.org/ResearchPaper_10.1145/3584372.3588672'))\n",
            "(rdflib.term.URIRef('http://SDM_lab_2.org/Author_57222360072'), rdflib.term.URIRef('http://SDM_lab_2.org/Write'), rdflib.term.URIRef('http://SDM_lab_2.org/ResearchPaper_10.1109/ICAIHC59020.2023.10430485'))\n"
          ]
        }
      ],
      "source": [
        "for stmt in islice(g, 5):\n",
        "    print(stmt)"
      ]
    },
    {
      "cell_type": "code",
      "execution_count": 22,
      "metadata": {
        "colab": {
          "base_uri": "https://localhost:8080/"
        },
        "id": "zzI1NlBSSNX8",
        "outputId": "0b4d8109-1622-496e-e0de-7f4a73c43620"
      },
      "outputs": [
        {
          "data": {
            "text/plain": [
              "<Graph identifier=Nf0635b866afd4b8cbe6e81d699e4e6d3 (<class 'rdflib.graph.Graph'>)>"
            ]
          },
          "execution_count": 22,
          "metadata": {},
          "output_type": "execute_result"
        }
      ],
      "source": [
        "# Export as Turtle\n",
        "g.serialize(destination='/Users/zzy13/Desktop/Classes_at_UPC/SDM_Semantic_data_management/Lab_2/Lab_doc/data/lab_abox.ttl', format='turtle')"
      ]
    }
  ],
  "metadata": {
    "colab": {
      "provenance": [],
      "toc_visible": true
    },
    "kernelspec": {
      "display_name": "Python 3",
      "name": "python3"
    },
    "language_info": {
      "codemirror_mode": {
        "name": "ipython",
        "version": 3
      },
      "file_extension": ".py",
      "mimetype": "text/x-python",
      "name": "python",
      "nbconvert_exporter": "python",
      "pygments_lexer": "ipython3",
      "version": "3.11.8"
    }
  },
  "nbformat": 4,
  "nbformat_minor": 0
}
