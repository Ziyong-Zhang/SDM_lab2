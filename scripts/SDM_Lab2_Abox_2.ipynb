{
  "cells": [
    {
      "cell_type": "code",
      "execution_count": 66,
      "metadata": {
        "colab": {
          "base_uri": "https://localhost:8080/"
        },
        "id": "HJLKnZeWBsgv",
        "outputId": "e37a9bc9-60a7-4a91-dac1-b885efd2d2b5"
      },
      "outputs": [
        {
          "name": "stdout",
          "output_type": "stream",
          "text": [
            "Requirement already satisfied: rdflib in /Users/zzy13/anaconda3/lib/python3.11/site-packages (7.0.0)\n",
            "Requirement already satisfied: isodate<0.7.0,>=0.6.0 in /Users/zzy13/anaconda3/lib/python3.11/site-packages (from rdflib) (0.6.1)\n",
            "Requirement already satisfied: pyparsing<4,>=2.1.0 in /Users/zzy13/anaconda3/lib/python3.11/site-packages (from rdflib) (2.4.7)\n",
            "Requirement already satisfied: six in /Users/zzy13/anaconda3/lib/python3.11/site-packages (from isodate<0.7.0,>=0.6.0->rdflib) (1.16.0)\n",
            "Note: you may need to restart the kernel to use updated packages.\n"
          ]
        }
      ],
      "source": [
        "pip install rdflib"
      ]
    },
    {
      "cell_type": "code",
      "execution_count": 67,
      "metadata": {
        "id": "hekRcO0G_Qzn"
      },
      "outputs": [],
      "source": [
        "import pandas as pd\n",
        "import numpy as np\n",
        "import random\n",
        "import csv\n",
        "import os\n",
        "from itertools import islice\n",
        "import urllib.parse\n",
        "from rdflib import Graph\n",
        "from rdflib import Literal\n",
        "from rdflib import Namespace\n",
        "from rdflib.namespace import RDF, RDFS, FOAF, XSD, URIRef"
      ]
    },
    {
      "cell_type": "code",
      "execution_count": 68,
      "metadata": {
        "id": "85ywbdjgAyjs"
      },
      "outputs": [],
      "source": [
        "URI = Namespace(\"http://SDM_lab_2.org/\")\n",
        "g = Graph()\n",
        "g.bind(\"lab\", URI)"
      ]
    },
    {
      "cell_type": "code",
      "execution_count": 69,
      "metadata": {
        "colab": {
          "base_uri": "https://localhost:8080/"
        },
        "id": "BP2F7DjvSU5q",
        "outputId": "c6063f56-8297-4688-81ed-fec604caba5a"
      },
      "outputs": [
        {
          "name": "stdout",
          "output_type": "stream",
          "text": [
            "paper_cite_paper\n",
            "journal_in_year\n",
            "proceeding_in_year\n",
            "scopus_500\n",
            "authors\n",
            "paper_in_year\n",
            "journal\n",
            "sample\n",
            "paper_has_keywords\n",
            "author_write\n",
            "year\n",
            "paper_belong_to_journal\n",
            "conference\n",
            "proceeding\n",
            "paper\n",
            "paper_belong_to_proceeding\n",
            "keywords\n",
            "paper_presented_in_conference\n",
            "conference_detail\n",
            "author_review\n"
          ]
        }
      ],
      "source": [
        "# csv_dir = '/content/drive/MyDrive/SDM_lab2/data/CSVs/'\n",
        "csv_dir = '/Users/zzy13/Desktop/Classes_at_UPC/SDM_Semantic_data_management/Lab_2/Lab_doc/data/CSVs/' \n",
        "\n",
        "csv_files = [f for f in os.listdir(csv_dir) if f.endswith('.csv')]\n",
        "\n",
        "dataframes = {}\n",
        "for csv_file in csv_files:\n",
        "    file_path = os.path.join(csv_dir, csv_file)\n",
        "    df_name = os.path.splitext(csv_file)[0].replace('-', '_')\n",
        "    dataframes[df_name] = pd.read_csv(file_path)\n",
        "\n",
        "for df_name in dataframes.keys():\n",
        "    print(df_name)"
      ]
    },
    {
      "cell_type": "markdown",
      "metadata": {
        "id": "-8astiGKQa9w"
      },
      "source": [
        "# Load Class and Properties"
      ]
    },
    {
      "cell_type": "markdown",
      "metadata": {
        "id": "KGM9xw0iFj6h"
      },
      "source": [
        "## Load Class ResearchPaper"
      ]
    },
    {
      "cell_type": "code",
      "execution_count": 70,
      "metadata": {
        "colab": {
          "base_uri": "https://localhost:8080/",
          "height": 299
        },
        "id": "wKBtoby9fcbG",
        "outputId": "f66d9c20-3297-4444-b226-c6a5371d445f"
      },
      "outputs": [
        {
          "data": {
            "text/html": [
              "<div>\n",
              "<style scoped>\n",
              "    .dataframe tbody tr th:only-of-type {\n",
              "        vertical-align: middle;\n",
              "    }\n",
              "\n",
              "    .dataframe tbody tr th {\n",
              "        vertical-align: top;\n",
              "    }\n",
              "\n",
              "    .dataframe thead th {\n",
              "        text-align: right;\n",
              "    }\n",
              "</style>\n",
              "<table border=\"1\" class=\"dataframe\">\n",
              "  <thead>\n",
              "    <tr style=\"text-align: right;\">\n",
              "      <th></th>\n",
              "      <th>title</th>\n",
              "      <th>abstract</th>\n",
              "      <th>pages</th>\n",
              "      <th>DOI</th>\n",
              "      <th>link</th>\n",
              "      <th>year</th>\n",
              "    </tr>\n",
              "  </thead>\n",
              "  <tbody>\n",
              "    <tr>\n",
              "      <th>0</th>\n",
              "      <td>Challenges posed by hijacked journals in Scopus</td>\n",
              "      <td>This study presents and explains the phenomeno...</td>\n",
              "      <td>395-422</td>\n",
              "      <td>10.1002/asi.24855</td>\n",
              "      <td>https://www.scopus.com/inward/record.uri?eid=2...</td>\n",
              "      <td>2023</td>\n",
              "    </tr>\n",
              "    <tr>\n",
              "      <th>1</th>\n",
              "      <td>Normalizing Large Scale Sensor-Based MWD Data:...</td>\n",
              "      <td>In the context of geo-infrastructures and spec...</td>\n",
              "      <td>-</td>\n",
              "      <td>10.3390/s24041209</td>\n",
              "      <td>https://www.scopus.com/inward/record.uri?eid=2...</td>\n",
              "      <td>2022</td>\n",
              "    </tr>\n",
              "    <tr>\n",
              "      <th>2</th>\n",
              "      <td>Instant learning based on deep neural network ...</td>\n",
              "      <td>Biometric-based identity verification systems ...</td>\n",
              "      <td>32099-32122</td>\n",
              "      <td>10.1007/s11042-023-16751-6</td>\n",
              "      <td>https://www.scopus.com/inward/record.uri?eid=2...</td>\n",
              "      <td>2024</td>\n",
              "    </tr>\n",
              "  </tbody>\n",
              "</table>\n",
              "</div>"
            ],
            "text/plain": [
              "                                               title  \\\n",
              "0    Challenges posed by hijacked journals in Scopus   \n",
              "1  Normalizing Large Scale Sensor-Based MWD Data:...   \n",
              "2  Instant learning based on deep neural network ...   \n",
              "\n",
              "                                            abstract        pages  \\\n",
              "0  This study presents and explains the phenomeno...      395-422   \n",
              "1  In the context of geo-infrastructures and spec...            -   \n",
              "2  Biometric-based identity verification systems ...  32099-32122   \n",
              "\n",
              "                          DOI  \\\n",
              "0           10.1002/asi.24855   \n",
              "1           10.3390/s24041209   \n",
              "2  10.1007/s11042-023-16751-6   \n",
              "\n",
              "                                                link  year  \n",
              "0  https://www.scopus.com/inward/record.uri?eid=2...  2023  \n",
              "1  https://www.scopus.com/inward/record.uri?eid=2...  2022  \n",
              "2  https://www.scopus.com/inward/record.uri?eid=2...  2024  "
            ]
          },
          "execution_count": 70,
          "metadata": {},
          "output_type": "execute_result"
        }
      ],
      "source": [
        "dataframes['paper'].head(3)"
      ]
    },
    {
      "cell_type": "code",
      "execution_count": 71,
      "metadata": {
        "id": "zitOO_sbfcdl"
      },
      "outputs": [],
      "source": [
        "ResearchPaper = URI.ResearchPaper\n",
        "\n",
        "paper_properties = {\n",
        "    \"title\": URI.PaperTitle,\n",
        "    \"abstract\": URI.PaperAbstract,\n",
        "    \"pages\": URI.pages,\n",
        "    \"DOI\": URI.DOI,\n",
        "    \"link\": URI.link,\n",
        "    \"year\": URI.year\n",
        "}\n",
        "\n",
        "def process_papers(df):\n",
        "    for _, record in df.iterrows():\n",
        "        paper_uri = URIRef(URI[\"ResearchPaper_\" + str(record['DOI'])])\n",
        "        g.add((paper_uri, RDF.type, ResearchPaper))\n",
        "        for key, prop in paper_properties.items():\n",
        "            if pd.notna(record[key]):\n",
        "                g.add((paper_uri, prop, Literal(record[key])))\n",
        "\n",
        "process_papers(dataframes['paper'])"
      ]
    },
    {
      "cell_type": "markdown",
      "metadata": {
        "id": "1F71UGMdFPGx"
      },
      "source": [
        "## Load Property of Cites"
      ]
    },
    {
      "cell_type": "code",
      "execution_count": 72,
      "metadata": {
        "colab": {
          "base_uri": "https://localhost:8080/",
          "height": 143
        },
        "id": "nSK4iSkPUmWQ",
        "outputId": "be5f6695-e3a7-45ce-cab7-18a8ea8b9819"
      },
      "outputs": [
        {
          "data": {
            "text/html": [
              "<div>\n",
              "<style scoped>\n",
              "    .dataframe tbody tr th:only-of-type {\n",
              "        vertical-align: middle;\n",
              "    }\n",
              "\n",
              "    .dataframe tbody tr th {\n",
              "        vertical-align: top;\n",
              "    }\n",
              "\n",
              "    .dataframe thead th {\n",
              "        text-align: right;\n",
              "    }\n",
              "</style>\n",
              "<table border=\"1\" class=\"dataframe\">\n",
              "  <thead>\n",
              "    <tr style=\"text-align: right;\">\n",
              "      <th></th>\n",
              "      <th>start_id</th>\n",
              "      <th>end_id</th>\n",
              "    </tr>\n",
              "  </thead>\n",
              "  <tbody>\n",
              "    <tr>\n",
              "      <th>0</th>\n",
              "      <td>10.1002/asi.24855</td>\n",
              "      <td>10.4230/LIPIcs.ICDT.2024.23</td>\n",
              "    </tr>\n",
              "    <tr>\n",
              "      <th>1</th>\n",
              "      <td>10.1002/asi.24855</td>\n",
              "      <td>10.1109/SSI58917.2023.10387755</td>\n",
              "    </tr>\n",
              "    <tr>\n",
              "      <th>2</th>\n",
              "      <td>10.1002/asi.24855</td>\n",
              "      <td>10.4230/LIPIcs.ICDT.2023.14</td>\n",
              "    </tr>\n",
              "  </tbody>\n",
              "</table>\n",
              "</div>"
            ],
            "text/plain": [
              "            start_id                          end_id\n",
              "0  10.1002/asi.24855     10.4230/LIPIcs.ICDT.2024.23\n",
              "1  10.1002/asi.24855  10.1109/SSI58917.2023.10387755\n",
              "2  10.1002/asi.24855     10.4230/LIPIcs.ICDT.2023.14"
            ]
          },
          "execution_count": 72,
          "metadata": {},
          "output_type": "execute_result"
        }
      ],
      "source": [
        "dataframes['paper_cite_paper'].head(3)"
      ]
    },
    {
      "cell_type": "code",
      "execution_count": 73,
      "metadata": {
        "id": "fKsKj0t8XfV5"
      },
      "outputs": [],
      "source": [
        "Cites = URI.Cites\n",
        "\n",
        "Cites_properties = {\n",
        "    \"start_id\": URI.start_id,\n",
        "    \"end_id\": URI.end_id\n",
        "}\n",
        "\n",
        "def process_paper(df):\n",
        "    for _, record in df.iterrows():\n",
        "        # Create URIs for the start and end papers\n",
        "        start_paper_uri = URIRef(URI[\"ResearchPaper_\" + str(record['start_id'])])\n",
        "        end_paper_uri = URIRef(URI[\"ResearchPaper_\" + str(record['end_id'])])\n",
        "\n",
        "        # Add the type triples for both papers to the graph\n",
        "        # g.add((start_paper_uri, RDF.type, ResearchPaper)) #Already Added Before\n",
        "        # g.add((end_paper_uri, RDF.type, ResearchPaper))\n",
        "\n",
        "        # Add the citation relationship to the graph\n",
        "        g.add((start_paper_uri, Cites, end_paper_uri))\n",
        "\n",
        "process_paper(dataframes['paper_cite_paper'])"
      ]
    },
    {
      "cell_type": "markdown",
      "metadata": {
        "id": "uRQGAT1fOzbJ"
      },
      "source": [
        "## Load Class Topics"
      ]
    },
    {
      "cell_type": "code",
      "execution_count": 74,
      "metadata": {
        "colab": {
          "base_uri": "https://localhost:8080/",
          "height": 143
        },
        "id": "AWoXvakfQifd",
        "outputId": "e2242dd8-561b-446d-b97b-27844cba6b28"
      },
      "outputs": [
        {
          "data": {
            "text/html": [
              "<div>\n",
              "<style scoped>\n",
              "    .dataframe tbody tr th:only-of-type {\n",
              "        vertical-align: middle;\n",
              "    }\n",
              "\n",
              "    .dataframe tbody tr th {\n",
              "        vertical-align: top;\n",
              "    }\n",
              "\n",
              "    .dataframe thead th {\n",
              "        text-align: right;\n",
              "    }\n",
              "</style>\n",
              "<table border=\"1\" class=\"dataframe\">\n",
              "  <thead>\n",
              "    <tr style=\"text-align: right;\">\n",
              "      <th></th>\n",
              "      <th>keywords</th>\n",
              "    </tr>\n",
              "  </thead>\n",
              "  <tbody>\n",
              "    <tr>\n",
              "      <th>0</th>\n",
              "      <td>filtering process</td>\n",
              "    </tr>\n",
              "    <tr>\n",
              "      <th>1</th>\n",
              "      <td>measurement while drilling (MWD)</td>\n",
              "    </tr>\n",
              "    <tr>\n",
              "      <th>2</th>\n",
              "      <td>normalizing index</td>\n",
              "    </tr>\n",
              "  </tbody>\n",
              "</table>\n",
              "</div>"
            ],
            "text/plain": [
              "                           keywords\n",
              "0                 filtering process\n",
              "1  measurement while drilling (MWD)\n",
              "2                 normalizing index"
            ]
          },
          "execution_count": 74,
          "metadata": {},
          "output_type": "execute_result"
        }
      ],
      "source": [
        "dataframes['keywords'].head(3)"
      ]
    },
    {
      "cell_type": "code",
      "execution_count": 75,
      "metadata": {
        "id": "iIhqruy5Qii6"
      },
      "outputs": [],
      "source": [
        "Topics = URI.Topics  # Name in URI\n",
        "\n",
        "Topics_properties = {\n",
        "    \"keywords\": URI.Topics\n",
        "}\n",
        "\n",
        "def process_topics(df):\n",
        "    for _, record in df.iterrows():\n",
        "        keywords = urllib.parse.quote(\"Topics_\" + str(record['keywords']))  # URL Code\n",
        "        keywords_uri = URIRef(URI[keywords])\n",
        "        g.add((keywords_uri, RDF.type, Topics))  #\n",
        "        for key, prop in Topics_properties.items():\n",
        "            if pd.notna(record[key]):\n",
        "                g.add((keywords_uri, prop, Literal(record[key])))\n",
        "\n",
        "process_topics(dataframes['keywords'])"
      ]
    },
    {
      "cell_type": "markdown",
      "metadata": {
        "id": "GVz8OaHpUz6a"
      },
      "source": [
        "## Load Property HasTopics"
      ]
    },
    {
      "cell_type": "code",
      "execution_count": 76,
      "metadata": {
        "colab": {
          "base_uri": "https://localhost:8080/",
          "height": 143
        },
        "id": "j1O-9vqfU2N2",
        "outputId": "7e4fba26-2640-4cbc-f0a4-a0a4742c00f2"
      },
      "outputs": [
        {
          "data": {
            "text/html": [
              "<div>\n",
              "<style scoped>\n",
              "    .dataframe tbody tr th:only-of-type {\n",
              "        vertical-align: middle;\n",
              "    }\n",
              "\n",
              "    .dataframe tbody tr th {\n",
              "        vertical-align: top;\n",
              "    }\n",
              "\n",
              "    .dataframe thead th {\n",
              "        text-align: right;\n",
              "    }\n",
              "</style>\n",
              "<table border=\"1\" class=\"dataframe\">\n",
              "  <thead>\n",
              "    <tr style=\"text-align: right;\">\n",
              "      <th></th>\n",
              "      <th>paper_id</th>\n",
              "      <th>keywords</th>\n",
              "    </tr>\n",
              "  </thead>\n",
              "  <tbody>\n",
              "    <tr>\n",
              "      <th>0</th>\n",
              "      <td>10.3390/s24041209</td>\n",
              "      <td>filtering process</td>\n",
              "    </tr>\n",
              "    <tr>\n",
              "      <th>1</th>\n",
              "      <td>10.3390/s24041209</td>\n",
              "      <td>measurement while drilling (MWD)</td>\n",
              "    </tr>\n",
              "    <tr>\n",
              "      <th>2</th>\n",
              "      <td>10.3390/s24041209</td>\n",
              "      <td>normalizing index</td>\n",
              "    </tr>\n",
              "  </tbody>\n",
              "</table>\n",
              "</div>"
            ],
            "text/plain": [
              "            paper_id                          keywords\n",
              "0  10.3390/s24041209                 filtering process\n",
              "1  10.3390/s24041209  measurement while drilling (MWD)\n",
              "2  10.3390/s24041209                 normalizing index"
            ]
          },
          "execution_count": 76,
          "metadata": {},
          "output_type": "execute_result"
        }
      ],
      "source": [
        "dataframes['paper_has_keywords'].head(3)"
      ]
    },
    {
      "cell_type": "code",
      "execution_count": 77,
      "metadata": {
        "id": "XS-vpqmEU2rB"
      },
      "outputs": [],
      "source": [
        "HasTopics = URI.HasTopics\n",
        "\n",
        "HasTopics_properties = {\n",
        "    \"paper_id\": URI.paper_id,\n",
        "    \"keywords\": URI.keywords\n",
        "}\n",
        "\n",
        "def process_paper(df):\n",
        "    for _, record in df.iterrows():\n",
        "        # Create URIs\n",
        "        paper_id_uri = URIRef(URI[\"ResearchPaper_\" + str(record['paper_id'])])\n",
        "        keywords = urllib.parse.quote(\"Topics_\" + str(record['keywords']))  # URL Code\n",
        "        keywords_uri = URIRef(URI[keywords])\n",
        "\n",
        "        # Add the relationship to the graph\n",
        "        g.add((paper_id_uri, HasTopics, keywords_uri))\n",
        "\n",
        "process_paper(dataframes['paper_has_keywords'])"
      ]
    },
    {
      "cell_type": "markdown",
      "metadata": {
        "id": "8LkAMBTdVXjG"
      },
      "source": [
        "## Load Class SubmittedPaper"
      ]
    },
    {
      "cell_type": "code",
      "execution_count": 78,
      "metadata": {
        "colab": {
          "base_uri": "https://localhost:8080/",
          "height": 299
        },
        "id": "WM0G9C1yacGB",
        "outputId": "b20416b6-90d3-4308-a996-23c5d90c7eba"
      },
      "outputs": [
        {
          "data": {
            "text/html": [
              "<div>\n",
              "<style scoped>\n",
              "    .dataframe tbody tr th:only-of-type {\n",
              "        vertical-align: middle;\n",
              "    }\n",
              "\n",
              "    .dataframe tbody tr th {\n",
              "        vertical-align: top;\n",
              "    }\n",
              "\n",
              "    .dataframe thead th {\n",
              "        text-align: right;\n",
              "    }\n",
              "</style>\n",
              "<table border=\"1\" class=\"dataframe\">\n",
              "  <thead>\n",
              "    <tr style=\"text-align: right;\">\n",
              "      <th></th>\n",
              "      <th>title</th>\n",
              "      <th>abstract</th>\n",
              "      <th>pages</th>\n",
              "      <th>DOI</th>\n",
              "      <th>link</th>\n",
              "      <th>year</th>\n",
              "    </tr>\n",
              "  </thead>\n",
              "  <tbody>\n",
              "    <tr>\n",
              "      <th>0</th>\n",
              "      <td>Challenges posed by hijacked journals in Scopus</td>\n",
              "      <td>This study presents and explains the phenomeno...</td>\n",
              "      <td>395-422</td>\n",
              "      <td>10.1002/asi.24855</td>\n",
              "      <td>https://www.scopus.com/inward/record.uri?eid=2...</td>\n",
              "      <td>2023</td>\n",
              "    </tr>\n",
              "    <tr>\n",
              "      <th>1</th>\n",
              "      <td>Normalizing Large Scale Sensor-Based MWD Data:...</td>\n",
              "      <td>In the context of geo-infrastructures and spec...</td>\n",
              "      <td>-</td>\n",
              "      <td>10.3390/s24041209</td>\n",
              "      <td>https://www.scopus.com/inward/record.uri?eid=2...</td>\n",
              "      <td>2022</td>\n",
              "    </tr>\n",
              "    <tr>\n",
              "      <th>2</th>\n",
              "      <td>Instant learning based on deep neural network ...</td>\n",
              "      <td>Biometric-based identity verification systems ...</td>\n",
              "      <td>32099-32122</td>\n",
              "      <td>10.1007/s11042-023-16751-6</td>\n",
              "      <td>https://www.scopus.com/inward/record.uri?eid=2...</td>\n",
              "      <td>2024</td>\n",
              "    </tr>\n",
              "  </tbody>\n",
              "</table>\n",
              "</div>"
            ],
            "text/plain": [
              "                                               title  \\\n",
              "0    Challenges posed by hijacked journals in Scopus   \n",
              "1  Normalizing Large Scale Sensor-Based MWD Data:...   \n",
              "2  Instant learning based on deep neural network ...   \n",
              "\n",
              "                                            abstract        pages  \\\n",
              "0  This study presents and explains the phenomeno...      395-422   \n",
              "1  In the context of geo-infrastructures and spec...            -   \n",
              "2  Biometric-based identity verification systems ...  32099-32122   \n",
              "\n",
              "                          DOI  \\\n",
              "0           10.1002/asi.24855   \n",
              "1           10.3390/s24041209   \n",
              "2  10.1007/s11042-023-16751-6   \n",
              "\n",
              "                                                link  year  \n",
              "0  https://www.scopus.com/inward/record.uri?eid=2...  2023  \n",
              "1  https://www.scopus.com/inward/record.uri?eid=2...  2022  \n",
              "2  https://www.scopus.com/inward/record.uri?eid=2...  2024  "
            ]
          },
          "execution_count": 78,
          "metadata": {},
          "output_type": "execute_result"
        }
      ],
      "source": [
        "dataframes['paper'].head(3)"
      ]
    },
    {
      "cell_type": "code",
      "execution_count": 79,
      "metadata": {
        "id": "EXC5WtK7afgn"
      },
      "outputs": [],
      "source": [
        "SubmittedPaper = URI.SubmittedPaper\n",
        "\n",
        "paper_properties = {\n",
        "    \"title\": URI.PaperTitle,\n",
        "    \"abstract\": URI.PaperAbstract,\n",
        "    \"pages\": URI.Pages,\n",
        "    \"DOI\": URI.DOI,\n",
        "    \"link\": URI.Link,\n",
        "    \"year\": URI.Year\n",
        "}\n",
        "\n",
        "def SubmittedPaper_process(df):\n",
        "    for _, record in df.iterrows():\n",
        "        paper_uri = URIRef(URI[\"SubmittedPaper_\" + str(record['DOI'])])\n",
        "        g.add((paper_uri, RDF.type, SubmittedPaper))\n",
        "        for key, prop in paper_properties.items():\n",
        "            if pd.notna(record[key]):\n",
        "                g.add((paper_uri, prop, Literal(record[key])))\n",
        "\n",
        "SubmittedPaper_process(dataframes['paper'])"
      ]
    },
    {
      "cell_type": "markdown",
      "metadata": {
        "id": "bmXTnCQteUr1"
      },
      "source": [
        "## Load Property Submitted"
      ]
    },
    {
      "cell_type": "code",
      "execution_count": 80,
      "metadata": {
        "colab": {
          "base_uri": "https://localhost:8080/",
          "height": 299
        },
        "id": "CP4YJxj9eWdy",
        "outputId": "675febdc-5f52-479e-f85c-7f100ea0dcea"
      },
      "outputs": [
        {
          "data": {
            "text/html": [
              "<div>\n",
              "<style scoped>\n",
              "    .dataframe tbody tr th:only-of-type {\n",
              "        vertical-align: middle;\n",
              "    }\n",
              "\n",
              "    .dataframe tbody tr th {\n",
              "        vertical-align: top;\n",
              "    }\n",
              "\n",
              "    .dataframe thead th {\n",
              "        text-align: right;\n",
              "    }\n",
              "</style>\n",
              "<table border=\"1\" class=\"dataframe\">\n",
              "  <thead>\n",
              "    <tr style=\"text-align: right;\">\n",
              "      <th></th>\n",
              "      <th>title</th>\n",
              "      <th>abstract</th>\n",
              "      <th>pages</th>\n",
              "      <th>DOI</th>\n",
              "      <th>link</th>\n",
              "      <th>year</th>\n",
              "    </tr>\n",
              "  </thead>\n",
              "  <tbody>\n",
              "    <tr>\n",
              "      <th>0</th>\n",
              "      <td>Challenges posed by hijacked journals in Scopus</td>\n",
              "      <td>This study presents and explains the phenomeno...</td>\n",
              "      <td>395-422</td>\n",
              "      <td>10.1002/asi.24855</td>\n",
              "      <td>https://www.scopus.com/inward/record.uri?eid=2...</td>\n",
              "      <td>2023</td>\n",
              "    </tr>\n",
              "    <tr>\n",
              "      <th>1</th>\n",
              "      <td>Normalizing Large Scale Sensor-Based MWD Data:...</td>\n",
              "      <td>In the context of geo-infrastructures and spec...</td>\n",
              "      <td>-</td>\n",
              "      <td>10.3390/s24041209</td>\n",
              "      <td>https://www.scopus.com/inward/record.uri?eid=2...</td>\n",
              "      <td>2022</td>\n",
              "    </tr>\n",
              "    <tr>\n",
              "      <th>2</th>\n",
              "      <td>Instant learning based on deep neural network ...</td>\n",
              "      <td>Biometric-based identity verification systems ...</td>\n",
              "      <td>32099-32122</td>\n",
              "      <td>10.1007/s11042-023-16751-6</td>\n",
              "      <td>https://www.scopus.com/inward/record.uri?eid=2...</td>\n",
              "      <td>2024</td>\n",
              "    </tr>\n",
              "  </tbody>\n",
              "</table>\n",
              "</div>"
            ],
            "text/plain": [
              "                                               title  \\\n",
              "0    Challenges posed by hijacked journals in Scopus   \n",
              "1  Normalizing Large Scale Sensor-Based MWD Data:...   \n",
              "2  Instant learning based on deep neural network ...   \n",
              "\n",
              "                                            abstract        pages  \\\n",
              "0  This study presents and explains the phenomeno...      395-422   \n",
              "1  In the context of geo-infrastructures and spec...            -   \n",
              "2  Biometric-based identity verification systems ...  32099-32122   \n",
              "\n",
              "                          DOI  \\\n",
              "0           10.1002/asi.24855   \n",
              "1           10.3390/s24041209   \n",
              "2  10.1007/s11042-023-16751-6   \n",
              "\n",
              "                                                link  year  \n",
              "0  https://www.scopus.com/inward/record.uri?eid=2...  2023  \n",
              "1  https://www.scopus.com/inward/record.uri?eid=2...  2022  \n",
              "2  https://www.scopus.com/inward/record.uri?eid=2...  2024  "
            ]
          },
          "execution_count": 80,
          "metadata": {},
          "output_type": "execute_result"
        }
      ],
      "source": [
        "dataframes['paper'].head(3)"
      ]
    },
    {
      "cell_type": "code",
      "execution_count": 81,
      "metadata": {
        "id": "QUw9oi4oeWnO"
      },
      "outputs": [],
      "source": [
        "Submitted = URI.Submitted\n",
        "\n",
        "Submitted_properties = {\n",
        "    \"DOI\": URI.paper_id\n",
        "}\n",
        "\n",
        "def Submitted_process(df):\n",
        "    for _, record in df.iterrows():\n",
        "        # Create URIs\n",
        "        paper_id_uri = URIRef(URI[\"ResearchPaper_\" + str(record['DOI'])])\n",
        "        submitted_paper_id_uri = URIRef(URI[\"SubmittedPaper_\" + str(record['DOI'])])\n",
        "\n",
        "        # Add the relationship to the graph\n",
        "        g.add((paper_id_uri, Submitted, submitted_paper_id_uri))\n",
        "\n",
        "Submitted_process(dataframes['paper'])"
      ]
    },
    {
      "cell_type": "markdown",
      "metadata": {
        "id": "TN1FfKZ4gBDj"
      },
      "source": [
        "## Load Class Person"
      ]
    },
    {
      "cell_type": "code",
      "execution_count": 82,
      "metadata": {
        "id": "4ddZNtkwgFLD"
      },
      "outputs": [],
      "source": [
        "# The RDF should Automate Generate Person Accourding to Tbox"
      ]
    },
    {
      "cell_type": "code",
      "execution_count": null,
      "metadata": {
        "id": "iEafGIjagJgx"
      },
      "outputs": [],
      "source": []
    },
    {
      "cell_type": "markdown",
      "metadata": {
        "id": "NWIpJNBAgrLt"
      },
      "source": [
        "## Load Class Author"
      ]
    },
    {
      "cell_type": "code",
      "execution_count": 83,
      "metadata": {
        "colab": {
          "base_uri": "https://localhost:8080/",
          "height": 143
        },
        "id": "U70g-92mgs0K",
        "outputId": "9a8a58ef-6528-477c-af01-4979735bb516"
      },
      "outputs": [
        {
          "data": {
            "text/html": [
              "<div>\n",
              "<style scoped>\n",
              "    .dataframe tbody tr th:only-of-type {\n",
              "        vertical-align: middle;\n",
              "    }\n",
              "\n",
              "    .dataframe tbody tr th {\n",
              "        vertical-align: top;\n",
              "    }\n",
              "\n",
              "    .dataframe thead th {\n",
              "        text-align: right;\n",
              "    }\n",
              "</style>\n",
              "<table border=\"1\" class=\"dataframe\">\n",
              "  <thead>\n",
              "    <tr style=\"text-align: right;\">\n",
              "      <th></th>\n",
              "      <th>author_id</th>\n",
              "      <th>author_name</th>\n",
              "      <th>author_affiliation</th>\n",
              "    </tr>\n",
              "  </thead>\n",
              "  <tbody>\n",
              "    <tr>\n",
              "      <th>0</th>\n",
              "      <td>57219571200</td>\n",
              "      <td>Abalkina A.</td>\n",
              "      <td>Freie Universität Berlin, Berlin, Germany</td>\n",
              "    </tr>\n",
              "    <tr>\n",
              "      <th>1</th>\n",
              "      <td>35726817600</td>\n",
              "      <td>Abbaszadeh Shahri A.</td>\n",
              "      <td>Johan Lundberg AB, Uppsala, 754 50, Sweden, D...</td>\n",
              "    </tr>\n",
              "    <tr>\n",
              "      <th>2</th>\n",
              "      <td>58897160900</td>\n",
              "      <td>Shan C.</td>\n",
              "      <td>Division of Rock Engineering, Tyrens, Stockho...</td>\n",
              "    </tr>\n",
              "  </tbody>\n",
              "</table>\n",
              "</div>"
            ],
            "text/plain": [
              "     author_id           author_name  \\\n",
              "0  57219571200           Abalkina A.   \n",
              "1  35726817600  Abbaszadeh Shahri A.   \n",
              "2  58897160900               Shan C.   \n",
              "\n",
              "                                  author_affiliation  \n",
              "0          Freie Universität Berlin, Berlin, Germany  \n",
              "1   Johan Lundberg AB, Uppsala, 754 50, Sweden, D...  \n",
              "2   Division of Rock Engineering, Tyrens, Stockho...  "
            ]
          },
          "execution_count": 83,
          "metadata": {},
          "output_type": "execute_result"
        }
      ],
      "source": [
        "dataframes['authors'].head(3)"
      ]
    },
    {
      "cell_type": "code",
      "execution_count": 84,
      "metadata": {
        "id": "Cs40uO65gs6_"
      },
      "outputs": [],
      "source": [
        "Author = URI.Author\n",
        "\n",
        "Author_properties = {\n",
        "    \"author_id\": URI.Author,\n",
        "    \"author_name\": URI.AuthorName\n",
        "    # \"author_affiliation\": URI.pages\n",
        "}\n",
        "\n",
        "def Author_process(df):\n",
        "    for _, record in df.iterrows():\n",
        "        Author_uri = URIRef(URI[\"Author_\" + str(record['author_id'])])\n",
        "        g.add((Author_uri, RDF.type, Author))\n",
        "        for key, prop in Author_properties.items():\n",
        "            if pd.notna(record[key]):\n",
        "                g.add((Author_uri, prop, Literal(record[key])))\n",
        "\n",
        "Author_process(dataframes['authors'])"
      ]
    },
    {
      "cell_type": "markdown",
      "metadata": {
        "id": "fVDcZUoWhHh-"
      },
      "source": [
        "## Load Property Write"
      ]
    },
    {
      "cell_type": "code",
      "execution_count": 85,
      "metadata": {
        "colab": {
          "base_uri": "https://localhost:8080/",
          "height": 143
        },
        "id": "yqq3B3pph4CA",
        "outputId": "626b6551-4ffa-4c04-c846-332c1add0cfc"
      },
      "outputs": [
        {
          "data": {
            "text/html": [
              "<div>\n",
              "<style scoped>\n",
              "    .dataframe tbody tr th:only-of-type {\n",
              "        vertical-align: middle;\n",
              "    }\n",
              "\n",
              "    .dataframe tbody tr th {\n",
              "        vertical-align: top;\n",
              "    }\n",
              "\n",
              "    .dataframe thead th {\n",
              "        text-align: right;\n",
              "    }\n",
              "</style>\n",
              "<table border=\"1\" class=\"dataframe\">\n",
              "  <thead>\n",
              "    <tr style=\"text-align: right;\">\n",
              "      <th></th>\n",
              "      <th>author_id</th>\n",
              "      <th>paper_id</th>\n",
              "      <th>corresponding</th>\n",
              "    </tr>\n",
              "  </thead>\n",
              "  <tbody>\n",
              "    <tr>\n",
              "      <th>0</th>\n",
              "      <td>57219571200</td>\n",
              "      <td>10.1002/asi.24855</td>\n",
              "      <td>True</td>\n",
              "    </tr>\n",
              "    <tr>\n",
              "      <th>1</th>\n",
              "      <td>35726817600</td>\n",
              "      <td>10.3390/s24041209</td>\n",
              "      <td>True</td>\n",
              "    </tr>\n",
              "    <tr>\n",
              "      <th>2</th>\n",
              "      <td>58897160900</td>\n",
              "      <td>10.3390/s24041209</td>\n",
              "      <td>False</td>\n",
              "    </tr>\n",
              "  </tbody>\n",
              "</table>\n",
              "</div>"
            ],
            "text/plain": [
              "     author_id           paper_id  corresponding\n",
              "0  57219571200  10.1002/asi.24855           True\n",
              "1  35726817600  10.3390/s24041209           True\n",
              "2  58897160900  10.3390/s24041209          False"
            ]
          },
          "execution_count": 85,
          "metadata": {},
          "output_type": "execute_result"
        }
      ],
      "source": [
        "dataframes['author_write'].head(3)"
      ]
    },
    {
      "cell_type": "code",
      "execution_count": 86,
      "metadata": {
        "id": "wbQWtGI0h4IR"
      },
      "outputs": [],
      "source": [
        "Write = URI.Write\n",
        "\n",
        "Write_properties = {\n",
        "    \"author_id\": URI.Author,\n",
        "    \"paper_id\": URI.paper_id,\n",
        "    \"corresponding\": URI.corresponding\n",
        "}\n",
        "\n",
        "def Write_process(df):\n",
        "    for _, record in df.iterrows():\n",
        "        # Create URIs\n",
        "        Author_id_uri = URIRef(URI[\"Author_\" + str(record['author_id'])])\n",
        "        ResearchPaper_id_uri = URIRef(URI[\"ResearchPaper_\" + str(record['paper_id'])])\n",
        "\n",
        "        # Add the relationship to the graph\n",
        "        g.add((Author_id_uri, Write, ResearchPaper_id_uri))\n",
        "\n",
        "Write_process(dataframes['author_write'])"
      ]
    },
    {
      "cell_type": "markdown",
      "metadata": {
        "id": "kGd5NFMKlgvh"
      },
      "source": [
        "## Load Property CorrespondingAuthor"
      ]
    },
    {
      "cell_type": "code",
      "execution_count": 87,
      "metadata": {
        "colab": {
          "base_uri": "https://localhost:8080/",
          "height": 143
        },
        "id": "ARkA-LOfllFf",
        "outputId": "0e750481-8528-4885-9a78-3e050b00b903"
      },
      "outputs": [
        {
          "data": {
            "text/html": [
              "<div>\n",
              "<style scoped>\n",
              "    .dataframe tbody tr th:only-of-type {\n",
              "        vertical-align: middle;\n",
              "    }\n",
              "\n",
              "    .dataframe tbody tr th {\n",
              "        vertical-align: top;\n",
              "    }\n",
              "\n",
              "    .dataframe thead th {\n",
              "        text-align: right;\n",
              "    }\n",
              "</style>\n",
              "<table border=\"1\" class=\"dataframe\">\n",
              "  <thead>\n",
              "    <tr style=\"text-align: right;\">\n",
              "      <th></th>\n",
              "      <th>author_id</th>\n",
              "      <th>paper_id</th>\n",
              "      <th>corresponding</th>\n",
              "    </tr>\n",
              "  </thead>\n",
              "  <tbody>\n",
              "    <tr>\n",
              "      <th>0</th>\n",
              "      <td>57219571200</td>\n",
              "      <td>10.1002/asi.24855</td>\n",
              "      <td>True</td>\n",
              "    </tr>\n",
              "    <tr>\n",
              "      <th>1</th>\n",
              "      <td>35726817600</td>\n",
              "      <td>10.3390/s24041209</td>\n",
              "      <td>True</td>\n",
              "    </tr>\n",
              "    <tr>\n",
              "      <th>2</th>\n",
              "      <td>58897160900</td>\n",
              "      <td>10.3390/s24041209</td>\n",
              "      <td>False</td>\n",
              "    </tr>\n",
              "  </tbody>\n",
              "</table>\n",
              "</div>"
            ],
            "text/plain": [
              "     author_id           paper_id  corresponding\n",
              "0  57219571200  10.1002/asi.24855           True\n",
              "1  35726817600  10.3390/s24041209           True\n",
              "2  58897160900  10.3390/s24041209          False"
            ]
          },
          "execution_count": 87,
          "metadata": {},
          "output_type": "execute_result"
        }
      ],
      "source": [
        "dataframes['author_write'].head(3)"
      ]
    },
    {
      "cell_type": "code",
      "execution_count": 88,
      "metadata": {
        "id": "8RHCgFqollOs"
      },
      "outputs": [],
      "source": [
        "CorrespondingAuthor = URI.CorrespondingAuthor\n",
        "\n",
        "Write_properties = {\n",
        "    \"author_id\": URI.Author,\n",
        "    \"paper_id\": URI.paper_id,\n",
        "    \"corresponding\": URI.corresponding\n",
        "}\n",
        "\n",
        "def CorrespondingAuthor_process(df):\n",
        "    for _, record in df.iterrows():\n",
        "        # Create URIs\n",
        "        Author_id_uri = URIRef(URI[\"Author_\" + str(record['author_id'])])\n",
        "        ResearchPaper_id_uri = URIRef(URI[\"ResearchPaper_\" + str(record['paper_id'])])\n",
        "\n",
        "        # If the corresponding field is True, add the CorrespondingAuthor relationship\n",
        "        if record['corresponding']:\n",
        "            g.add((Author_id_uri, CorrespondingAuthor, ResearchPaper_id_uri))\n",
        "\n",
        "CorrespondingAuthor_process(dataframes['author_write'])"
      ]
    },
    {
      "cell_type": "markdown",
      "metadata": {
        "id": "q_LOuasbmm4Y"
      },
      "source": [
        "## Load Class Reviewer"
      ]
    },
    {
      "cell_type": "code",
      "execution_count": 89,
      "metadata": {
        "colab": {
          "base_uri": "https://localhost:8080/",
          "height": 143
        },
        "id": "ek8cYL0pmp_1",
        "outputId": "fae8ad3f-17c2-4f0c-e8ea-ca1bfbbd9559"
      },
      "outputs": [
        {
          "data": {
            "text/html": [
              "<div>\n",
              "<style scoped>\n",
              "    .dataframe tbody tr th:only-of-type {\n",
              "        vertical-align: middle;\n",
              "    }\n",
              "\n",
              "    .dataframe tbody tr th {\n",
              "        vertical-align: top;\n",
              "    }\n",
              "\n",
              "    .dataframe thead th {\n",
              "        text-align: right;\n",
              "    }\n",
              "</style>\n",
              "<table border=\"1\" class=\"dataframe\">\n",
              "  <thead>\n",
              "    <tr style=\"text-align: right;\">\n",
              "      <th></th>\n",
              "      <th>paper_id</th>\n",
              "      <th>reviewer_id</th>\n",
              "      <th>review_content</th>\n",
              "      <th>accept_possibility</th>\n",
              "    </tr>\n",
              "  </thead>\n",
              "  <tbody>\n",
              "    <tr>\n",
              "      <th>0</th>\n",
              "      <td>10.1002/asi.24855</td>\n",
              "      <td>55445000700</td>\n",
              "      <td>Next certain tend million country compare.</td>\n",
              "      <td>0.254872</td>\n",
              "    </tr>\n",
              "    <tr>\n",
              "      <th>1</th>\n",
              "      <td>10.1002/asi.24855</td>\n",
              "      <td>57946022500</td>\n",
              "      <td>Hold thus safe difficult focus.</td>\n",
              "      <td>0.466417</td>\n",
              "    </tr>\n",
              "    <tr>\n",
              "      <th>2</th>\n",
              "      <td>10.1002/asi.24855</td>\n",
              "      <td>25921550000</td>\n",
              "      <td>Drug fund sure political social.</td>\n",
              "      <td>0.122583</td>\n",
              "    </tr>\n",
              "  </tbody>\n",
              "</table>\n",
              "</div>"
            ],
            "text/plain": [
              "            paper_id  reviewer_id                              review_content  \\\n",
              "0  10.1002/asi.24855  55445000700  Next certain tend million country compare.   \n",
              "1  10.1002/asi.24855  57946022500             Hold thus safe difficult focus.   \n",
              "2  10.1002/asi.24855  25921550000            Drug fund sure political social.   \n",
              "\n",
              "   accept_possibility  \n",
              "0            0.254872  \n",
              "1            0.466417  \n",
              "2            0.122583  "
            ]
          },
          "execution_count": 89,
          "metadata": {},
          "output_type": "execute_result"
        }
      ],
      "source": [
        "dataframes['author_review'].head(3)"
      ]
    },
    {
      "cell_type": "code",
      "execution_count": 90,
      "metadata": {
        "id": "LXffWdS6mqKi"
      },
      "outputs": [],
      "source": [
        "Reviewer = URI.Reviewer\n",
        "\n",
        "Reviewer_properties = {\n",
        "    \"paper_id\": URI.ResearchPaper,\n",
        "    \"reviewer_id\": URI.Reviewer,\n",
        "    \"review_content\": URI.ReviewText,\n",
        "    \"accept_possibility\": URI.AcceptPossibility\n",
        "}\n",
        "\n",
        "def Reviewer_process(df):\n",
        "    for _, record in df.iterrows():\n",
        "        Reviewer_uri = URIRef(URI[\"Reviewer_\" + str(record['reviewer_id'])])\n",
        "        g.add((Reviewer_uri, RDF.type, Author))\n",
        "        for key, prop in Reviewer_properties.items():\n",
        "            if pd.notna(record[key]):\n",
        "                g.add((Reviewer_uri, prop, Literal(record[key])))\n",
        "\n",
        "Reviewer_process(dataframes['author_review'])"
      ]
    },
    {
      "cell_type": "markdown",
      "metadata": {
        "id": "pNmU3zVEnrTw"
      },
      "source": [
        "## Load Property WriteReview"
      ]
    },
    {
      "cell_type": "code",
      "execution_count": 91,
      "metadata": {
        "colab": {
          "base_uri": "https://localhost:8080/",
          "height": 143
        },
        "id": "LVP-gvBvn2VZ",
        "outputId": "ab838864-4c8c-4dbf-802f-a77f6e505896"
      },
      "outputs": [
        {
          "data": {
            "text/html": [
              "<div>\n",
              "<style scoped>\n",
              "    .dataframe tbody tr th:only-of-type {\n",
              "        vertical-align: middle;\n",
              "    }\n",
              "\n",
              "    .dataframe tbody tr th {\n",
              "        vertical-align: top;\n",
              "    }\n",
              "\n",
              "    .dataframe thead th {\n",
              "        text-align: right;\n",
              "    }\n",
              "</style>\n",
              "<table border=\"1\" class=\"dataframe\">\n",
              "  <thead>\n",
              "    <tr style=\"text-align: right;\">\n",
              "      <th></th>\n",
              "      <th>paper_id</th>\n",
              "      <th>reviewer_id</th>\n",
              "      <th>review_content</th>\n",
              "      <th>accept_possibility</th>\n",
              "    </tr>\n",
              "  </thead>\n",
              "  <tbody>\n",
              "    <tr>\n",
              "      <th>0</th>\n",
              "      <td>10.1002/asi.24855</td>\n",
              "      <td>55445000700</td>\n",
              "      <td>Next certain tend million country compare.</td>\n",
              "      <td>0.254872</td>\n",
              "    </tr>\n",
              "    <tr>\n",
              "      <th>1</th>\n",
              "      <td>10.1002/asi.24855</td>\n",
              "      <td>57946022500</td>\n",
              "      <td>Hold thus safe difficult focus.</td>\n",
              "      <td>0.466417</td>\n",
              "    </tr>\n",
              "    <tr>\n",
              "      <th>2</th>\n",
              "      <td>10.1002/asi.24855</td>\n",
              "      <td>25921550000</td>\n",
              "      <td>Drug fund sure political social.</td>\n",
              "      <td>0.122583</td>\n",
              "    </tr>\n",
              "  </tbody>\n",
              "</table>\n",
              "</div>"
            ],
            "text/plain": [
              "            paper_id  reviewer_id                              review_content  \\\n",
              "0  10.1002/asi.24855  55445000700  Next certain tend million country compare.   \n",
              "1  10.1002/asi.24855  57946022500             Hold thus safe difficult focus.   \n",
              "2  10.1002/asi.24855  25921550000            Drug fund sure political social.   \n",
              "\n",
              "   accept_possibility  \n",
              "0            0.254872  \n",
              "1            0.466417  \n",
              "2            0.122583  "
            ]
          },
          "execution_count": 91,
          "metadata": {},
          "output_type": "execute_result"
        }
      ],
      "source": [
        "dataframes['author_review'].head(3)"
      ]
    },
    {
      "cell_type": "code",
      "execution_count": 92,
      "metadata": {
        "id": "eB7RrbqPn2hw"
      },
      "outputs": [],
      "source": [
        "WriteReview = URI.WriteReview\n",
        "\n",
        "WriteReview_properties = {\n",
        "    \"paper_id\": URI.paper_id,\n",
        "    \"reviewer_id\": URI.reviewer_id,\n",
        "    \"review_content\": URI.review_content,\n",
        "    \"accept_possibility\": URI.accept_possibility\n",
        "}\n",
        "\n",
        "def WriteReview_process(df):\n",
        "    for _, record in df.iterrows():\n",
        "        # Create URIs\n",
        "        Reviewer_id_uri = URIRef(URI[\"Reviewer_\" + str(record['reviewer_id'])])\n",
        "        SubmittedPaper_id_uri = URIRef(URI[\"SubmittedPaper_\" + str(record['paper_id'])])\n",
        "\n",
        "        # Add the relationship to the graph\n",
        "        g.add((Reviewer_id_uri, WriteReview, SubmittedPaper_id_uri))\n",
        "\n",
        "WriteReview_process(dataframes['author_review'])"
      ]
    },
    {
      "cell_type": "markdown",
      "metadata": {
        "id": "1t4jLlF5o52C"
      },
      "source": [
        "## Load Class ReviewText"
      ]
    },
    {
      "cell_type": "code",
      "execution_count": 93,
      "metadata": {
        "colab": {
          "base_uri": "https://localhost:8080/",
          "height": 143
        },
        "id": "B-ukMAKso81L",
        "outputId": "0358ede4-3c44-4f59-acb4-84b9453ef3ce"
      },
      "outputs": [
        {
          "data": {
            "text/html": [
              "<div>\n",
              "<style scoped>\n",
              "    .dataframe tbody tr th:only-of-type {\n",
              "        vertical-align: middle;\n",
              "    }\n",
              "\n",
              "    .dataframe tbody tr th {\n",
              "        vertical-align: top;\n",
              "    }\n",
              "\n",
              "    .dataframe thead th {\n",
              "        text-align: right;\n",
              "    }\n",
              "</style>\n",
              "<table border=\"1\" class=\"dataframe\">\n",
              "  <thead>\n",
              "    <tr style=\"text-align: right;\">\n",
              "      <th></th>\n",
              "      <th>paper_id</th>\n",
              "      <th>reviewer_id</th>\n",
              "      <th>review_content</th>\n",
              "      <th>accept_possibility</th>\n",
              "    </tr>\n",
              "  </thead>\n",
              "  <tbody>\n",
              "    <tr>\n",
              "      <th>0</th>\n",
              "      <td>10.1002/asi.24855</td>\n",
              "      <td>55445000700</td>\n",
              "      <td>Next certain tend million country compare.</td>\n",
              "      <td>0.254872</td>\n",
              "    </tr>\n",
              "    <tr>\n",
              "      <th>1</th>\n",
              "      <td>10.1002/asi.24855</td>\n",
              "      <td>57946022500</td>\n",
              "      <td>Hold thus safe difficult focus.</td>\n",
              "      <td>0.466417</td>\n",
              "    </tr>\n",
              "    <tr>\n",
              "      <th>2</th>\n",
              "      <td>10.1002/asi.24855</td>\n",
              "      <td>25921550000</td>\n",
              "      <td>Drug fund sure political social.</td>\n",
              "      <td>0.122583</td>\n",
              "    </tr>\n",
              "  </tbody>\n",
              "</table>\n",
              "</div>"
            ],
            "text/plain": [
              "            paper_id  reviewer_id                              review_content  \\\n",
              "0  10.1002/asi.24855  55445000700  Next certain tend million country compare.   \n",
              "1  10.1002/asi.24855  57946022500             Hold thus safe difficult focus.   \n",
              "2  10.1002/asi.24855  25921550000            Drug fund sure political social.   \n",
              "\n",
              "   accept_possibility  \n",
              "0            0.254872  \n",
              "1            0.466417  \n",
              "2            0.122583  "
            ]
          },
          "execution_count": 93,
          "metadata": {},
          "output_type": "execute_result"
        }
      ],
      "source": [
        "dataframes['author_review'].head(3)"
      ]
    },
    {
      "cell_type": "code",
      "execution_count": 94,
      "metadata": {
        "id": "a1KkA3eyo88u"
      },
      "outputs": [],
      "source": [
        "ReviewText = URI.ReviewText\n",
        "\n",
        "ReviewText_properties = {\n",
        "    \"paper_id\": URI.ResearchPaper,\n",
        "    \"reviewer_id\": URI.Reviewer,\n",
        "    \"review_content\": URI.ReviewText,\n",
        "    \"accept_possibility\": URI.AcceptPossibility\n",
        "}\n",
        "\n",
        "def ReviewText_process(df):\n",
        "    for _, record in df.iterrows():\n",
        "        ReviewText = urllib.parse.quote(\"ReviewText_\" + str(record['review_content']))  # URL Code\n",
        "        ReviewText_uri = URIRef(URI[ReviewText])\n",
        "        g.add((ReviewText_uri, RDF.type, Author))\n",
        "        for key, prop in ReviewText_properties.items():\n",
        "            if pd.notna(record[key]):\n",
        "                g.add((ReviewText_uri, prop, Literal(record[key])))\n",
        "\n",
        "ReviewText_process(dataframes['author_review'])"
      ]
    },
    {
      "cell_type": "markdown",
      "metadata": {
        "id": "jKYxDZEMp5SF"
      },
      "source": [
        "## Load Property ReviewOf"
      ]
    },
    {
      "cell_type": "code",
      "execution_count": 95,
      "metadata": {
        "colab": {
          "base_uri": "https://localhost:8080/",
          "height": 143
        },
        "id": "40huOzpYp8uF",
        "outputId": "f9c7b687-f0ae-47e4-a2e2-99c99df2e208"
      },
      "outputs": [
        {
          "data": {
            "text/html": [
              "<div>\n",
              "<style scoped>\n",
              "    .dataframe tbody tr th:only-of-type {\n",
              "        vertical-align: middle;\n",
              "    }\n",
              "\n",
              "    .dataframe tbody tr th {\n",
              "        vertical-align: top;\n",
              "    }\n",
              "\n",
              "    .dataframe thead th {\n",
              "        text-align: right;\n",
              "    }\n",
              "</style>\n",
              "<table border=\"1\" class=\"dataframe\">\n",
              "  <thead>\n",
              "    <tr style=\"text-align: right;\">\n",
              "      <th></th>\n",
              "      <th>paper_id</th>\n",
              "      <th>reviewer_id</th>\n",
              "      <th>review_content</th>\n",
              "      <th>accept_possibility</th>\n",
              "    </tr>\n",
              "  </thead>\n",
              "  <tbody>\n",
              "    <tr>\n",
              "      <th>0</th>\n",
              "      <td>10.1002/asi.24855</td>\n",
              "      <td>55445000700</td>\n",
              "      <td>Next certain tend million country compare.</td>\n",
              "      <td>0.254872</td>\n",
              "    </tr>\n",
              "    <tr>\n",
              "      <th>1</th>\n",
              "      <td>10.1002/asi.24855</td>\n",
              "      <td>57946022500</td>\n",
              "      <td>Hold thus safe difficult focus.</td>\n",
              "      <td>0.466417</td>\n",
              "    </tr>\n",
              "    <tr>\n",
              "      <th>2</th>\n",
              "      <td>10.1002/asi.24855</td>\n",
              "      <td>25921550000</td>\n",
              "      <td>Drug fund sure political social.</td>\n",
              "      <td>0.122583</td>\n",
              "    </tr>\n",
              "  </tbody>\n",
              "</table>\n",
              "</div>"
            ],
            "text/plain": [
              "            paper_id  reviewer_id                              review_content  \\\n",
              "0  10.1002/asi.24855  55445000700  Next certain tend million country compare.   \n",
              "1  10.1002/asi.24855  57946022500             Hold thus safe difficult focus.   \n",
              "2  10.1002/asi.24855  25921550000            Drug fund sure political social.   \n",
              "\n",
              "   accept_possibility  \n",
              "0            0.254872  \n",
              "1            0.466417  \n",
              "2            0.122583  "
            ]
          },
          "execution_count": 95,
          "metadata": {},
          "output_type": "execute_result"
        }
      ],
      "source": [
        "dataframes['author_review'].head(3)"
      ]
    },
    {
      "cell_type": "code",
      "execution_count": 96,
      "metadata": {
        "id": "sHODkaTpp82n"
      },
      "outputs": [],
      "source": [
        "ReviewOf = URI.ReviewOf\n",
        "\n",
        "ReviewOf_properties = {\n",
        "    \"paper_id\": URI.paper_id,\n",
        "    \"reviewer_id\": URI.reviewer_id,\n",
        "    \"review_content\": URI.review_content,\n",
        "    \"accept_possibility\": URI.accept_possibility\n",
        "}\n",
        "\n",
        "def ReviewOf_process(df):\n",
        "    for _, record in df.iterrows():\n",
        "        # Create URIs\n",
        "        ReviewText = urllib.parse.quote(\"ReviewText_\" + str(record['review_content']))  # URL Code\n",
        "        ReviewText_uri = URIRef(URI[ReviewText])\n",
        "        SubmittedPaper_id_uri = URIRef(URI[\"SubmittedPaper_\" + str(record['paper_id'])])\n",
        "\n",
        "        # Add the relationship to the graph\n",
        "        g.add((ReviewText_uri, ReviewOf, SubmittedPaper_id_uri))\n",
        "\n",
        "ReviewOf_process(dataframes['author_review'])"
      ]
    },
    {
      "cell_type": "markdown",
      "metadata": {
        "id": "_nmdv9RarJvx"
      },
      "source": [
        "## Load Property AcceptPossibility"
      ]
    },
    {
      "cell_type": "code",
      "execution_count": 97,
      "metadata": {
        "colab": {
          "base_uri": "https://localhost:8080/",
          "height": 143
        },
        "id": "DPFNhBUlrOKT",
        "outputId": "d2677a32-7f75-413c-fa32-449d3a587359"
      },
      "outputs": [
        {
          "data": {
            "text/html": [
              "<div>\n",
              "<style scoped>\n",
              "    .dataframe tbody tr th:only-of-type {\n",
              "        vertical-align: middle;\n",
              "    }\n",
              "\n",
              "    .dataframe tbody tr th {\n",
              "        vertical-align: top;\n",
              "    }\n",
              "\n",
              "    .dataframe thead th {\n",
              "        text-align: right;\n",
              "    }\n",
              "</style>\n",
              "<table border=\"1\" class=\"dataframe\">\n",
              "  <thead>\n",
              "    <tr style=\"text-align: right;\">\n",
              "      <th></th>\n",
              "      <th>paper_id</th>\n",
              "      <th>reviewer_id</th>\n",
              "      <th>review_content</th>\n",
              "      <th>accept_possibility</th>\n",
              "    </tr>\n",
              "  </thead>\n",
              "  <tbody>\n",
              "    <tr>\n",
              "      <th>0</th>\n",
              "      <td>10.1002/asi.24855</td>\n",
              "      <td>55445000700</td>\n",
              "      <td>Next certain tend million country compare.</td>\n",
              "      <td>0.254872</td>\n",
              "    </tr>\n",
              "    <tr>\n",
              "      <th>1</th>\n",
              "      <td>10.1002/asi.24855</td>\n",
              "      <td>57946022500</td>\n",
              "      <td>Hold thus safe difficult focus.</td>\n",
              "      <td>0.466417</td>\n",
              "    </tr>\n",
              "    <tr>\n",
              "      <th>2</th>\n",
              "      <td>10.1002/asi.24855</td>\n",
              "      <td>25921550000</td>\n",
              "      <td>Drug fund sure political social.</td>\n",
              "      <td>0.122583</td>\n",
              "    </tr>\n",
              "  </tbody>\n",
              "</table>\n",
              "</div>"
            ],
            "text/plain": [
              "            paper_id  reviewer_id                              review_content  \\\n",
              "0  10.1002/asi.24855  55445000700  Next certain tend million country compare.   \n",
              "1  10.1002/asi.24855  57946022500             Hold thus safe difficult focus.   \n",
              "2  10.1002/asi.24855  25921550000            Drug fund sure political social.   \n",
              "\n",
              "   accept_possibility  \n",
              "0            0.254872  \n",
              "1            0.466417  \n",
              "2            0.122583  "
            ]
          },
          "execution_count": 97,
          "metadata": {},
          "output_type": "execute_result"
        }
      ],
      "source": [
        "dataframes['author_review'].head(3)"
      ]
    },
    {
      "cell_type": "code",
      "execution_count": 98,
      "metadata": {
        "id": "CTLZc2wXrOSC"
      },
      "outputs": [],
      "source": [
        "AcceptPossibility = URI.AcceptPossibility\n",
        "\n",
        "ReviewOf_properties = {\n",
        "    \"paper_id\": URI.paper_id,\n",
        "    \"reviewer_id\": URI.reviewer_id,\n",
        "    \"review_content\": URI.review_content,\n",
        "    \"accept_possibility\": URI.accept_possibility\n",
        "}\n",
        "\n",
        "def AcceptPossibility_process(df):\n",
        "    for _, record in df.iterrows():\n",
        "        # Create URIs\n",
        "        ReviewText = urllib.parse.quote(\"ReviewText_\" + str(record['review_content']))  # URL Code\n",
        "        ReviewText_uri = URIRef(URI[ReviewText])\n",
        "        AcceptPossibility_id_uri = URIRef(URI[\"AcceptPossibility_\" + str(record['accept_possibility'])])\n",
        "\n",
        "        # Add the relationship to the graph\n",
        "        g.add((ReviewText_uri, AcceptPossibility, AcceptPossibility_id_uri))\n",
        "\n",
        "AcceptPossibility_process(dataframes['author_review'])"
      ]
    },
    {
      "cell_type": "markdown",
      "metadata": {
        "id": "EH4iuHl2rPB8"
      },
      "source": [
        "## Load Class Journal"
      ]
    },
    {
      "cell_type": "code",
      "execution_count": 99,
      "metadata": {
        "colab": {
          "base_uri": "https://localhost:8080/",
          "height": 143
        },
        "id": "H4pENOE1rWGO",
        "outputId": "d2a44cf4-5bb1-42ee-f899-af0c8b00fe00"
      },
      "outputs": [
        {
          "data": {
            "text/html": [
              "<div>\n",
              "<style scoped>\n",
              "    .dataframe tbody tr th:only-of-type {\n",
              "        vertical-align: middle;\n",
              "    }\n",
              "\n",
              "    .dataframe tbody tr th {\n",
              "        vertical-align: top;\n",
              "    }\n",
              "\n",
              "    .dataframe thead th {\n",
              "        text-align: right;\n",
              "    }\n",
              "</style>\n",
              "<table border=\"1\" class=\"dataframe\">\n",
              "  <thead>\n",
              "    <tr style=\"text-align: right;\">\n",
              "      <th></th>\n",
              "      <th>journal_name</th>\n",
              "    </tr>\n",
              "  </thead>\n",
              "  <tbody>\n",
              "    <tr>\n",
              "      <th>0</th>\n",
              "      <td>VLDB Journal</td>\n",
              "    </tr>\n",
              "    <tr>\n",
              "      <th>1</th>\n",
              "      <td>Circuits, Systems, and Signal Processing</td>\n",
              "    </tr>\n",
              "    <tr>\n",
              "      <th>2</th>\n",
              "      <td>Computer Methods and Programs in Biomedicine</td>\n",
              "    </tr>\n",
              "  </tbody>\n",
              "</table>\n",
              "</div>"
            ],
            "text/plain": [
              "                                   journal_name\n",
              "0                                  VLDB Journal\n",
              "1      Circuits, Systems, and Signal Processing\n",
              "2  Computer Methods and Programs in Biomedicine"
            ]
          },
          "execution_count": 99,
          "metadata": {},
          "output_type": "execute_result"
        }
      ],
      "source": [
        "dataframes['journal'].head(3)"
      ]
    },
    {
      "cell_type": "code",
      "execution_count": 100,
      "metadata": {
        "id": "sUI-t4DHrWOM"
      },
      "outputs": [],
      "source": [
        "Journal = URI.Journal\n",
        "\n",
        "Journal_properties = {\n",
        "    \"journal_name\": URI.journal_name\n",
        "}\n",
        "\n",
        "def Journal_process(df):\n",
        "    for _, record in df.iterrows():\n",
        "        Journal = urllib.parse.quote(\"Journal_\" + str(record['journal_name']))  # URL Code\n",
        "        Journal_uri = URIRef(URI[ReviewText])\n",
        "        g.add((Journal_uri, RDF.type, Author))\n",
        "        for key, prop in Journal_properties.items():\n",
        "            if pd.notna(record[key]):\n",
        "                g.add((Journal_uri, prop, Literal(record[key])))\n",
        "\n",
        "Journal_process(dataframes['journal'])"
      ]
    },
    {
      "cell_type": "markdown",
      "metadata": {
        "id": "ZQLKeQXUPktC"
      },
      "source": [
        "## Load Class Volumes"
      ]
    },
    {
      "cell_type": "code",
      "execution_count": 101,
      "metadata": {
        "colab": {
          "base_uri": "https://localhost:8080/",
          "height": 143
        },
        "id": "1wU9z8U8PwPf",
        "outputId": "e6e0be47-8fce-4fbb-dc8f-cedb5e2fbf32"
      },
      "outputs": [
        {
          "data": {
            "text/html": [
              "<div>\n",
              "<style scoped>\n",
              "    .dataframe tbody tr th:only-of-type {\n",
              "        vertical-align: middle;\n",
              "    }\n",
              "\n",
              "    .dataframe tbody tr th {\n",
              "        vertical-align: top;\n",
              "    }\n",
              "\n",
              "    .dataframe thead th {\n",
              "        text-align: right;\n",
              "    }\n",
              "</style>\n",
              "<table border=\"1\" class=\"dataframe\">\n",
              "  <thead>\n",
              "    <tr style=\"text-align: right;\">\n",
              "      <th></th>\n",
              "      <th>journal_name</th>\n",
              "      <th>year</th>\n",
              "    </tr>\n",
              "  </thead>\n",
              "  <tbody>\n",
              "    <tr>\n",
              "      <th>0</th>\n",
              "      <td>Journal of the Association for Information Sci...</td>\n",
              "      <td>2023</td>\n",
              "    </tr>\n",
              "    <tr>\n",
              "      <th>1</th>\n",
              "      <td>Sensors</td>\n",
              "      <td>2022</td>\n",
              "    </tr>\n",
              "    <tr>\n",
              "      <th>2</th>\n",
              "      <td>Multimedia Tools and Applications</td>\n",
              "      <td>2024</td>\n",
              "    </tr>\n",
              "  </tbody>\n",
              "</table>\n",
              "</div>"
            ],
            "text/plain": [
              "                                        journal_name  year\n",
              "0  Journal of the Association for Information Sci...  2023\n",
              "1                                            Sensors  2022\n",
              "2                  Multimedia Tools and Applications  2024"
            ]
          },
          "execution_count": 101,
          "metadata": {},
          "output_type": "execute_result"
        }
      ],
      "source": [
        "dataframes['journal_in_year'].head(3)"
      ]
    },
    {
      "cell_type": "code",
      "execution_count": 102,
      "metadata": {
        "colab": {
          "base_uri": "https://localhost:8080/",
          "height": 299
        },
        "id": "G2d5rUJSpufw",
        "outputId": "a13a5e82-f62d-4f65-982b-62a7b108ddb0"
      },
      "outputs": [
        {
          "data": {
            "text/html": [
              "<div>\n",
              "<style scoped>\n",
              "    .dataframe tbody tr th:only-of-type {\n",
              "        vertical-align: middle;\n",
              "    }\n",
              "\n",
              "    .dataframe tbody tr th {\n",
              "        vertical-align: top;\n",
              "    }\n",
              "\n",
              "    .dataframe thead th {\n",
              "        text-align: right;\n",
              "    }\n",
              "</style>\n",
              "<table border=\"1\" class=\"dataframe\">\n",
              "  <thead>\n",
              "    <tr style=\"text-align: right;\">\n",
              "      <th></th>\n",
              "      <th>title</th>\n",
              "      <th>abstract</th>\n",
              "      <th>pages</th>\n",
              "      <th>DOI</th>\n",
              "      <th>link</th>\n",
              "      <th>year</th>\n",
              "    </tr>\n",
              "  </thead>\n",
              "  <tbody>\n",
              "    <tr>\n",
              "      <th>0</th>\n",
              "      <td>Challenges posed by hijacked journals in Scopus</td>\n",
              "      <td>This study presents and explains the phenomeno...</td>\n",
              "      <td>395-422</td>\n",
              "      <td>10.1002/asi.24855</td>\n",
              "      <td>https://www.scopus.com/inward/record.uri?eid=2...</td>\n",
              "      <td>2023</td>\n",
              "    </tr>\n",
              "    <tr>\n",
              "      <th>1</th>\n",
              "      <td>Normalizing Large Scale Sensor-Based MWD Data:...</td>\n",
              "      <td>In the context of geo-infrastructures and spec...</td>\n",
              "      <td>-</td>\n",
              "      <td>10.3390/s24041209</td>\n",
              "      <td>https://www.scopus.com/inward/record.uri?eid=2...</td>\n",
              "      <td>2022</td>\n",
              "    </tr>\n",
              "    <tr>\n",
              "      <th>2</th>\n",
              "      <td>Instant learning based on deep neural network ...</td>\n",
              "      <td>Biometric-based identity verification systems ...</td>\n",
              "      <td>32099-32122</td>\n",
              "      <td>10.1007/s11042-023-16751-6</td>\n",
              "      <td>https://www.scopus.com/inward/record.uri?eid=2...</td>\n",
              "      <td>2024</td>\n",
              "    </tr>\n",
              "  </tbody>\n",
              "</table>\n",
              "</div>"
            ],
            "text/plain": [
              "                                               title  \\\n",
              "0    Challenges posed by hijacked journals in Scopus   \n",
              "1  Normalizing Large Scale Sensor-Based MWD Data:...   \n",
              "2  Instant learning based on deep neural network ...   \n",
              "\n",
              "                                            abstract        pages  \\\n",
              "0  This study presents and explains the phenomeno...      395-422   \n",
              "1  In the context of geo-infrastructures and spec...            -   \n",
              "2  Biometric-based identity verification systems ...  32099-32122   \n",
              "\n",
              "                          DOI  \\\n",
              "0           10.1002/asi.24855   \n",
              "1           10.3390/s24041209   \n",
              "2  10.1007/s11042-023-16751-6   \n",
              "\n",
              "                                                link  year  \n",
              "0  https://www.scopus.com/inward/record.uri?eid=2...  2023  \n",
              "1  https://www.scopus.com/inward/record.uri?eid=2...  2022  \n",
              "2  https://www.scopus.com/inward/record.uri?eid=2...  2024  "
            ]
          },
          "execution_count": 102,
          "metadata": {},
          "output_type": "execute_result"
        }
      ],
      "source": [
        "dataframes['paper'].head(3)"
      ]
    },
    {
      "cell_type": "code",
      "execution_count": 103,
      "metadata": {
        "colab": {
          "base_uri": "https://localhost:8080/",
          "height": 143
        },
        "id": "4QN1xUwJpwmI",
        "outputId": "68717127-b76d-4107-eec4-9e1c7bdb164f"
      },
      "outputs": [
        {
          "data": {
            "text/html": [
              "<div>\n",
              "<style scoped>\n",
              "    .dataframe tbody tr th:only-of-type {\n",
              "        vertical-align: middle;\n",
              "    }\n",
              "\n",
              "    .dataframe tbody tr th {\n",
              "        vertical-align: top;\n",
              "    }\n",
              "\n",
              "    .dataframe thead th {\n",
              "        text-align: right;\n",
              "    }\n",
              "</style>\n",
              "<table border=\"1\" class=\"dataframe\">\n",
              "  <thead>\n",
              "    <tr style=\"text-align: right;\">\n",
              "      <th></th>\n",
              "      <th>start_id</th>\n",
              "      <th>end_id</th>\n",
              "    </tr>\n",
              "  </thead>\n",
              "  <tbody>\n",
              "    <tr>\n",
              "      <th>0</th>\n",
              "      <td>10.1002/asi.24855</td>\n",
              "      <td>Journal of the Association for Information Sci...</td>\n",
              "    </tr>\n",
              "    <tr>\n",
              "      <th>1</th>\n",
              "      <td>10.3390/s24041209</td>\n",
              "      <td>Sensors</td>\n",
              "    </tr>\n",
              "    <tr>\n",
              "      <th>2</th>\n",
              "      <td>10.1007/s11042-023-16751-6</td>\n",
              "      <td>Multimedia Tools and Applications</td>\n",
              "    </tr>\n",
              "  </tbody>\n",
              "</table>\n",
              "</div>"
            ],
            "text/plain": [
              "                     start_id  \\\n",
              "0           10.1002/asi.24855   \n",
              "1           10.3390/s24041209   \n",
              "2  10.1007/s11042-023-16751-6   \n",
              "\n",
              "                                              end_id  \n",
              "0  Journal of the Association for Information Sci...  \n",
              "1                                            Sensors  \n",
              "2                  Multimedia Tools and Applications  "
            ]
          },
          "execution_count": 103,
          "metadata": {},
          "output_type": "execute_result"
        }
      ],
      "source": [
        "dataframes['paper_belong_to_journal'].head(3)"
      ]
    },
    {
      "cell_type": "code",
      "execution_count": 104,
      "metadata": {
        "colab": {
          "base_uri": "https://localhost:8080/",
          "height": 143
        },
        "id": "erniBe25rXIX",
        "outputId": "fe1a1fdf-36a8-4893-976c-e53e3066e6d6"
      },
      "outputs": [
        {
          "data": {
            "text/html": [
              "<div>\n",
              "<style scoped>\n",
              "    .dataframe tbody tr th:only-of-type {\n",
              "        vertical-align: middle;\n",
              "    }\n",
              "\n",
              "    .dataframe tbody tr th {\n",
              "        vertical-align: top;\n",
              "    }\n",
              "\n",
              "    .dataframe thead th {\n",
              "        text-align: right;\n",
              "    }\n",
              "</style>\n",
              "<table border=\"1\" class=\"dataframe\">\n",
              "  <thead>\n",
              "    <tr style=\"text-align: right;\">\n",
              "      <th></th>\n",
              "      <th>volume</th>\n",
              "      <th>year</th>\n",
              "    </tr>\n",
              "  </thead>\n",
              "  <tbody>\n",
              "    <tr>\n",
              "      <th>0</th>\n",
              "      <td>Journal of the Association for Information Sci...</td>\n",
              "      <td>2023</td>\n",
              "    </tr>\n",
              "    <tr>\n",
              "      <th>1</th>\n",
              "      <td>Sensors (2022)</td>\n",
              "      <td>2022</td>\n",
              "    </tr>\n",
              "    <tr>\n",
              "      <th>2</th>\n",
              "      <td>Multimedia Tools and Applications (2024)</td>\n",
              "      <td>2024</td>\n",
              "    </tr>\n",
              "  </tbody>\n",
              "</table>\n",
              "</div>"
            ],
            "text/plain": [
              "                                              volume  year\n",
              "0  Journal of the Association for Information Sci...  2023\n",
              "1                                     Sensors (2022)  2022\n",
              "2           Multimedia Tools and Applications (2024)  2024"
            ]
          },
          "execution_count": 104,
          "metadata": {},
          "output_type": "execute_result"
        }
      ],
      "source": [
        "# Combine 'journal_name' and 'year'\n",
        "dataframes['journal_in_year']['volume'] = dataframes['journal_in_year'].apply(lambda row: f\"{row['journal_name']} ({row['year']})\", axis=1)\n",
        "\n",
        "volume = dataframes['journal_in_year'][['volume', 'year']]\n",
        "volume_in_journal = dataframes['journal_in_year'][['volume', 'journal_name', 'year']]\n",
        "\n",
        "volume.head(3)"
      ]
    },
    {
      "cell_type": "code",
      "execution_count": 105,
      "metadata": {
        "id": "WsNZV107cwMy"
      },
      "outputs": [],
      "source": [
        "Volumes = URI.Volumes\n",
        "\n",
        "properties = {\n",
        "    \"volume\": URI.volume,\n",
        "    \"year\": URI.year\n",
        "}\n",
        "\n",
        "def process(df):\n",
        "    for _, record in df.iterrows():\n",
        "        Journal = urllib.parse.quote(\"Volumes_\" + str(record['volume']))  # URL Code\n",
        "        Journal_uri = URIRef(URI[ReviewText])\n",
        "        g.add((Journal_uri, RDF.type, Volumes))\n",
        "        for key, prop in properties.items():\n",
        "            if pd.notna(record[key]):\n",
        "                g.add((Journal_uri, prop, Literal(record[key])))\n",
        "\n",
        "process(volume)"
      ]
    },
    {
      "cell_type": "markdown",
      "metadata": {
        "id": "PgGXsCZ2SljM"
      },
      "source": [
        "## Load Property OfJournal"
      ]
    },
    {
      "cell_type": "code",
      "execution_count": 106,
      "metadata": {
        "colab": {
          "base_uri": "https://localhost:8080/",
          "height": 143
        },
        "id": "dRkDXiW_Sosj",
        "outputId": "443e08ca-eb7d-4ac1-a8ec-735affd6d27c"
      },
      "outputs": [
        {
          "data": {
            "text/html": [
              "<div>\n",
              "<style scoped>\n",
              "    .dataframe tbody tr th:only-of-type {\n",
              "        vertical-align: middle;\n",
              "    }\n",
              "\n",
              "    .dataframe tbody tr th {\n",
              "        vertical-align: top;\n",
              "    }\n",
              "\n",
              "    .dataframe thead th {\n",
              "        text-align: right;\n",
              "    }\n",
              "</style>\n",
              "<table border=\"1\" class=\"dataframe\">\n",
              "  <thead>\n",
              "    <tr style=\"text-align: right;\">\n",
              "      <th></th>\n",
              "      <th>volume</th>\n",
              "      <th>journal_name</th>\n",
              "      <th>year</th>\n",
              "    </tr>\n",
              "  </thead>\n",
              "  <tbody>\n",
              "    <tr>\n",
              "      <th>0</th>\n",
              "      <td>Journal of the Association for Information Sci...</td>\n",
              "      <td>Journal of the Association for Information Sci...</td>\n",
              "      <td>2023</td>\n",
              "    </tr>\n",
              "    <tr>\n",
              "      <th>1</th>\n",
              "      <td>Sensors (2022)</td>\n",
              "      <td>Sensors</td>\n",
              "      <td>2022</td>\n",
              "    </tr>\n",
              "    <tr>\n",
              "      <th>2</th>\n",
              "      <td>Multimedia Tools and Applications (2024)</td>\n",
              "      <td>Multimedia Tools and Applications</td>\n",
              "      <td>2024</td>\n",
              "    </tr>\n",
              "  </tbody>\n",
              "</table>\n",
              "</div>"
            ],
            "text/plain": [
              "                                              volume  \\\n",
              "0  Journal of the Association for Information Sci...   \n",
              "1                                     Sensors (2022)   \n",
              "2           Multimedia Tools and Applications (2024)   \n",
              "\n",
              "                                        journal_name  year  \n",
              "0  Journal of the Association for Information Sci...  2023  \n",
              "1                                            Sensors  2022  \n",
              "2                  Multimedia Tools and Applications  2024  "
            ]
          },
          "execution_count": 106,
          "metadata": {},
          "output_type": "execute_result"
        }
      ],
      "source": [
        "volume_in_journal.head(3)"
      ]
    },
    {
      "cell_type": "code",
      "execution_count": 107,
      "metadata": {
        "id": "NbRsYNisSoz3"
      },
      "outputs": [],
      "source": [
        "OfJournal = URI.OfJournal\n",
        "\n",
        "properties = {\n",
        "    \"journal_name\": URI.journal_name,\n",
        "    \"volume\": URI.volume\n",
        "}\n",
        "\n",
        "def process(df):\n",
        "    for _, record in df.iterrows():\n",
        "        # Create URIs\n",
        "        firstText = urllib.parse.quote(\"Volumes_\" + str(record['volume']))  # URL Code\n",
        "        firstText_uri = URIRef(URI[firstText])\n",
        "        secondText = urllib.parse.quote(\"Journal_\" + str(record['journal_name']))  # URL Code\n",
        "        secondText_uri = URIRef(URI[secondText])\n",
        "\n",
        "        # Add the relationship to the graph\n",
        "        g.add((firstText_uri, OfJournal, secondText_uri))\n",
        "\n",
        "process(volume_in_journal)"
      ]
    },
    {
      "cell_type": "markdown",
      "metadata": {
        "id": "k_DgpnwRSpBL"
      },
      "source": [
        "## Load Class Proceedings"
      ]
    },
    {
      "cell_type": "code",
      "execution_count": 108,
      "metadata": {
        "colab": {
          "base_uri": "https://localhost:8080/",
          "height": 143
        },
        "id": "lGcaxIC1SujT",
        "outputId": "8011dd03-16f0-439e-a024-566fb882e114"
      },
      "outputs": [
        {
          "data": {
            "text/html": [
              "<div>\n",
              "<style scoped>\n",
              "    .dataframe tbody tr th:only-of-type {\n",
              "        vertical-align: middle;\n",
              "    }\n",
              "\n",
              "    .dataframe tbody tr th {\n",
              "        vertical-align: top;\n",
              "    }\n",
              "\n",
              "    .dataframe thead th {\n",
              "        text-align: right;\n",
              "    }\n",
              "</style>\n",
              "<table border=\"1\" class=\"dataframe\">\n",
              "  <thead>\n",
              "    <tr style=\"text-align: right;\">\n",
              "      <th></th>\n",
              "      <th>proceeding_name</th>\n",
              "      <th>city</th>\n",
              "    </tr>\n",
              "  </thead>\n",
              "  <tbody>\n",
              "    <tr>\n",
              "      <th>0</th>\n",
              "      <td>19th Machine Translation Summit, MT Summit 2023</td>\n",
              "      <td>Macau</td>\n",
              "    </tr>\n",
              "    <tr>\n",
              "      <th>1</th>\n",
              "      <td>7th International Conference on Big Data and I...</td>\n",
              "      <td>Beijing</td>\n",
              "    </tr>\n",
              "    <tr>\n",
              "      <th>2</th>\n",
              "      <td>2023 5th International Conference on Artificia...</td>\n",
              "      <td>Dalian</td>\n",
              "    </tr>\n",
              "  </tbody>\n",
              "</table>\n",
              "</div>"
            ],
            "text/plain": [
              "                                     proceeding_name     city\n",
              "0    19th Machine Translation Summit, MT Summit 2023    Macau\n",
              "1  7th International Conference on Big Data and I...  Beijing\n",
              "2  2023 5th International Conference on Artificia...   Dalian"
            ]
          },
          "execution_count": 108,
          "metadata": {},
          "output_type": "execute_result"
        }
      ],
      "source": [
        "dataframes['proceeding'].head(3)"
      ]
    },
    {
      "cell_type": "code",
      "execution_count": 109,
      "metadata": {
        "id": "FsNJTNBMSurF"
      },
      "outputs": [],
      "source": [
        "Proceedings = URI.Proceedings\n",
        "\n",
        "properties = {\n",
        "    \"proceeding_name\": URI.proceeding_name,\n",
        "    \"city\": URI.city\n",
        "}\n",
        "\n",
        "def process(df):\n",
        "    for _, record in df.iterrows():\n",
        "        Journal = urllib.parse.quote(\"Proceedings_\" + str(record['proceeding_name']))  # URL Code\n",
        "        Journal_uri = URIRef(URI[ReviewText])\n",
        "        g.add((Journal_uri, RDF.type, Proceedings))\n",
        "        for key, prop in properties.items():\n",
        "            if pd.notna(record[key]):\n",
        "                g.add((Journal_uri, prop, Literal(record[key])))\n",
        "\n",
        "process(dataframes['proceeding'])"
      ]
    },
    {
      "cell_type": "markdown",
      "metadata": {
        "id": "YQbKRuV8Tvni"
      },
      "source": [
        "## Load Class Conference"
      ]
    },
    {
      "cell_type": "code",
      "execution_count": 110,
      "metadata": {
        "colab": {
          "base_uri": "https://localhost:8080/",
          "height": 143
        },
        "id": "HtyY-LSuT3jJ",
        "outputId": "8a856b40-bb70-4896-99b8-05fc2e2d2b68"
      },
      "outputs": [
        {
          "data": {
            "text/html": [
              "<div>\n",
              "<style scoped>\n",
              "    .dataframe tbody tr th:only-of-type {\n",
              "        vertical-align: middle;\n",
              "    }\n",
              "\n",
              "    .dataframe tbody tr th {\n",
              "        vertical-align: top;\n",
              "    }\n",
              "\n",
              "    .dataframe thead th {\n",
              "        text-align: right;\n",
              "    }\n",
              "</style>\n",
              "<table border=\"1\" class=\"dataframe\">\n",
              "  <thead>\n",
              "    <tr style=\"text-align: right;\">\n",
              "      <th></th>\n",
              "      <th>name</th>\n",
              "      <th>year</th>\n",
              "      <th>city</th>\n",
              "      <th>proceeding_name</th>\n",
              "    </tr>\n",
              "  </thead>\n",
              "  <tbody>\n",
              "    <tr>\n",
              "      <th>0</th>\n",
              "      <td>International Conference on Integration of Com...</td>\n",
              "      <td>2024</td>\n",
              "      <td>Pune</td>\n",
              "      <td>2023 International Conference on Integration o...</td>\n",
              "    </tr>\n",
              "    <tr>\n",
              "      <th>1</th>\n",
              "      <td>International Conference on Electronics, Commu...</td>\n",
              "      <td>2023</td>\n",
              "      <td>Fukuoka</td>\n",
              "      <td>6th International Conference on Electronics, C...</td>\n",
              "    </tr>\n",
              "    <tr>\n",
              "      <th>2</th>\n",
              "      <td>IEEE International Conference on Next Generati...</td>\n",
              "      <td>2021</td>\n",
              "      <td>Vellore</td>\n",
              "      <td>2023 IEEE International Conference on Next Gen...</td>\n",
              "    </tr>\n",
              "  </tbody>\n",
              "</table>\n",
              "</div>"
            ],
            "text/plain": [
              "                                                name  year     city  \\\n",
              "0  International Conference on Integration of Com...  2024     Pune   \n",
              "1  International Conference on Electronics, Commu...  2023  Fukuoka   \n",
              "2  IEEE International Conference on Next Generati...  2021  Vellore   \n",
              "\n",
              "                                     proceeding_name  \n",
              "0  2023 International Conference on Integration o...  \n",
              "1  6th International Conference on Electronics, C...  \n",
              "2  2023 IEEE International Conference on Next Gen...  "
            ]
          },
          "execution_count": 110,
          "metadata": {},
          "output_type": "execute_result"
        }
      ],
      "source": [
        "dataframes['conference_detail'].head(3)"
      ]
    },
    {
      "cell_type": "code",
      "execution_count": 111,
      "metadata": {
        "id": "IVNR_aIcT3mf"
      },
      "outputs": [],
      "source": [
        "Conference = URI.Conference\n",
        "\n",
        "properties = {\n",
        "    \"name\": URI.name,\n",
        "    \"year\": URI.year,\n",
        "    \"city\": URI.city,\n",
        "    \"proceeding_name\": URI.proceeding_name\n",
        "}\n",
        "\n",
        "def process(df):\n",
        "    for _, record in df.iterrows():\n",
        "        Journal = urllib.parse.quote(\"Conference_\" + str(record['name']))  # URL Code\n",
        "        Journal_uri = URIRef(URI[ReviewText])\n",
        "        g.add((Journal_uri, RDF.type, Conference))\n",
        "        for key, prop in properties.items():\n",
        "            if pd.notna(record[key]):\n",
        "                g.add((Journal_uri, prop, Literal(record[key])))\n",
        "\n",
        "process(dataframes['conference_detail'])"
      ]
    },
    {
      "cell_type": "markdown",
      "metadata": {
        "id": "tlhDDDlsUaUD"
      },
      "source": [
        "## Load Class Workshop"
      ]
    },
    {
      "cell_type": "code",
      "execution_count": 112,
      "metadata": {
        "id": "4ZqsN53rUhaS"
      },
      "outputs": [],
      "source": [
        "dataframes['conference_detail']['IsWorkshop'] = np.random.choice([True, False], size=len(dataframes['conference_detail']))"
      ]
    },
    {
      "cell_type": "code",
      "execution_count": 113,
      "metadata": {
        "colab": {
          "base_uri": "https://localhost:8080/",
          "height": 293
        },
        "id": "_412cYpbUhdv",
        "outputId": "9c9163b2-6c96-4eef-d8d4-3ceafb66570e"
      },
      "outputs": [
        {
          "data": {
            "text/html": [
              "<div>\n",
              "<style scoped>\n",
              "    .dataframe tbody tr th:only-of-type {\n",
              "        vertical-align: middle;\n",
              "    }\n",
              "\n",
              "    .dataframe tbody tr th {\n",
              "        vertical-align: top;\n",
              "    }\n",
              "\n",
              "    .dataframe thead th {\n",
              "        text-align: right;\n",
              "    }\n",
              "</style>\n",
              "<table border=\"1\" class=\"dataframe\">\n",
              "  <thead>\n",
              "    <tr style=\"text-align: right;\">\n",
              "      <th></th>\n",
              "      <th>name</th>\n",
              "      <th>year</th>\n",
              "      <th>city</th>\n",
              "      <th>proceeding_name</th>\n",
              "      <th>IsWorkshop</th>\n",
              "    </tr>\n",
              "  </thead>\n",
              "  <tbody>\n",
              "    <tr>\n",
              "      <th>0</th>\n",
              "      <td>International Conference on Integration of Com...</td>\n",
              "      <td>2024</td>\n",
              "      <td>Pune</td>\n",
              "      <td>2023 International Conference on Integration o...</td>\n",
              "      <td>False</td>\n",
              "    </tr>\n",
              "    <tr>\n",
              "      <th>1</th>\n",
              "      <td>International Conference on Electronics, Commu...</td>\n",
              "      <td>2023</td>\n",
              "      <td>Fukuoka</td>\n",
              "      <td>6th International Conference on Electronics, C...</td>\n",
              "      <td>False</td>\n",
              "    </tr>\n",
              "    <tr>\n",
              "      <th>2</th>\n",
              "      <td>IEEE International Conference on Next Generati...</td>\n",
              "      <td>2021</td>\n",
              "      <td>Vellore</td>\n",
              "      <td>2023 IEEE International Conference on Next Gen...</td>\n",
              "      <td>True</td>\n",
              "    </tr>\n",
              "    <tr>\n",
              "      <th>3</th>\n",
              "      <td>International Conference on Database Theory, ICDT</td>\n",
              "      <td>2019</td>\n",
              "      <td>Ioannina</td>\n",
              "      <td>22th International Conference on Database Theo...</td>\n",
              "      <td>True</td>\n",
              "    </tr>\n",
              "    <tr>\n",
              "      <th>4</th>\n",
              "      <td>International Conference on Database Theory, ICDT</td>\n",
              "      <td>2020</td>\n",
              "      <td>Ioannina</td>\n",
              "      <td>23th International Conference on Database Theo...</td>\n",
              "      <td>True</td>\n",
              "    </tr>\n",
              "  </tbody>\n",
              "</table>\n",
              "</div>"
            ],
            "text/plain": [
              "                                                name  year      city  \\\n",
              "0  International Conference on Integration of Com...  2024      Pune   \n",
              "1  International Conference on Electronics, Commu...  2023   Fukuoka   \n",
              "2  IEEE International Conference on Next Generati...  2021   Vellore   \n",
              "3  International Conference on Database Theory, ICDT  2019  Ioannina   \n",
              "4  International Conference on Database Theory, ICDT  2020  Ioannina   \n",
              "\n",
              "                                     proceeding_name  IsWorkshop  \n",
              "0  2023 International Conference on Integration o...       False  \n",
              "1  6th International Conference on Electronics, C...       False  \n",
              "2  2023 IEEE International Conference on Next Gen...        True  \n",
              "3  22th International Conference on Database Theo...        True  \n",
              "4  23th International Conference on Database Theo...        True  "
            ]
          },
          "execution_count": 113,
          "metadata": {},
          "output_type": "execute_result"
        }
      ],
      "source": [
        "dataframes['conference_detail'].head(5)"
      ]
    },
    {
      "cell_type": "code",
      "execution_count": 114,
      "metadata": {
        "id": "1ZXgEHq8gM6J"
      },
      "outputs": [],
      "source": [
        "Workshop = URI.Workshop\n",
        "\n",
        "properties = {\n",
        "    \"name\": URI.name,\n",
        "    \"year\": URI.year,\n",
        "    \"city\": URI.city,\n",
        "    \"proceeding_name\": URI.proceeding_name,\n",
        "    \"IsWorkshop\": URI.IsWorkshop\n",
        "}\n",
        "\n",
        "def process(df):\n",
        "    for _, record in df.iterrows():\n",
        "      if record['IsWorkshop']:\n",
        "        Journal = urllib.parse.quote(\"Workshop_\" + str(record['name']))  # URL Code\n",
        "        Journal_uri = URIRef(URI[ReviewText])\n",
        "        g.add((Journal_uri, RDF.type, Workshop))\n",
        "        for key, prop in properties.items():\n",
        "            if pd.notna(record[key]):\n",
        "                g.add((Journal_uri, prop, Literal(record[key])))\n",
        "\n",
        "process(dataframes['conference_detail'])"
      ]
    },
    {
      "cell_type": "markdown",
      "metadata": {
        "id": "f7QlaOIcUuan"
      },
      "source": [
        "## Load Class RegularConference"
      ]
    },
    {
      "cell_type": "code",
      "execution_count": 115,
      "metadata": {
        "colab": {
          "base_uri": "https://localhost:8080/",
          "height": 293
        },
        "id": "cFpXwUHKUyUY",
        "outputId": "6b31a864-1ea0-4724-bfed-c2c189db55c3"
      },
      "outputs": [
        {
          "data": {
            "text/html": [
              "<div>\n",
              "<style scoped>\n",
              "    .dataframe tbody tr th:only-of-type {\n",
              "        vertical-align: middle;\n",
              "    }\n",
              "\n",
              "    .dataframe tbody tr th {\n",
              "        vertical-align: top;\n",
              "    }\n",
              "\n",
              "    .dataframe thead th {\n",
              "        text-align: right;\n",
              "    }\n",
              "</style>\n",
              "<table border=\"1\" class=\"dataframe\">\n",
              "  <thead>\n",
              "    <tr style=\"text-align: right;\">\n",
              "      <th></th>\n",
              "      <th>name</th>\n",
              "      <th>year</th>\n",
              "      <th>city</th>\n",
              "      <th>proceeding_name</th>\n",
              "      <th>IsWorkshop</th>\n",
              "    </tr>\n",
              "  </thead>\n",
              "  <tbody>\n",
              "    <tr>\n",
              "      <th>0</th>\n",
              "      <td>International Conference on Integration of Com...</td>\n",
              "      <td>2024</td>\n",
              "      <td>Pune</td>\n",
              "      <td>2023 International Conference on Integration o...</td>\n",
              "      <td>False</td>\n",
              "    </tr>\n",
              "    <tr>\n",
              "      <th>1</th>\n",
              "      <td>International Conference on Electronics, Commu...</td>\n",
              "      <td>2023</td>\n",
              "      <td>Fukuoka</td>\n",
              "      <td>6th International Conference on Electronics, C...</td>\n",
              "      <td>False</td>\n",
              "    </tr>\n",
              "    <tr>\n",
              "      <th>2</th>\n",
              "      <td>IEEE International Conference on Next Generati...</td>\n",
              "      <td>2021</td>\n",
              "      <td>Vellore</td>\n",
              "      <td>2023 IEEE International Conference on Next Gen...</td>\n",
              "      <td>True</td>\n",
              "    </tr>\n",
              "    <tr>\n",
              "      <th>3</th>\n",
              "      <td>International Conference on Database Theory, ICDT</td>\n",
              "      <td>2019</td>\n",
              "      <td>Ioannina</td>\n",
              "      <td>22th International Conference on Database Theo...</td>\n",
              "      <td>True</td>\n",
              "    </tr>\n",
              "    <tr>\n",
              "      <th>4</th>\n",
              "      <td>International Conference on Database Theory, ICDT</td>\n",
              "      <td>2020</td>\n",
              "      <td>Ioannina</td>\n",
              "      <td>23th International Conference on Database Theo...</td>\n",
              "      <td>True</td>\n",
              "    </tr>\n",
              "  </tbody>\n",
              "</table>\n",
              "</div>"
            ],
            "text/plain": [
              "                                                name  year      city  \\\n",
              "0  International Conference on Integration of Com...  2024      Pune   \n",
              "1  International Conference on Electronics, Commu...  2023   Fukuoka   \n",
              "2  IEEE International Conference on Next Generati...  2021   Vellore   \n",
              "3  International Conference on Database Theory, ICDT  2019  Ioannina   \n",
              "4  International Conference on Database Theory, ICDT  2020  Ioannina   \n",
              "\n",
              "                                     proceeding_name  IsWorkshop  \n",
              "0  2023 International Conference on Integration o...       False  \n",
              "1  6th International Conference on Electronics, C...       False  \n",
              "2  2023 IEEE International Conference on Next Gen...        True  \n",
              "3  22th International Conference on Database Theo...        True  \n",
              "4  23th International Conference on Database Theo...        True  "
            ]
          },
          "execution_count": 115,
          "metadata": {},
          "output_type": "execute_result"
        }
      ],
      "source": [
        "dataframes['conference_detail'].head(5)"
      ]
    },
    {
      "cell_type": "code",
      "execution_count": 116,
      "metadata": {
        "id": "GkaxHNAcUyeC"
      },
      "outputs": [],
      "source": [
        "RegularConference = URI.RegularConference\n",
        "\n",
        "properties = {\n",
        "    \"name\": URI.name,\n",
        "    \"year\": URI.year,\n",
        "    \"city\": URI.city,\n",
        "    \"proceeding_name\": URI.proceeding_name,\n",
        "    \"IsWorkshop\": URI.IsWorkshop\n",
        "}\n",
        "\n",
        "def process(df):\n",
        "    for _, record in df.iterrows():\n",
        "      if not record['IsWorkshop']:\n",
        "        Journal = urllib.parse.quote(\"RegularConference_\" + str(record['name']))  # URL Code\n",
        "        Journal_uri = URIRef(URI[ReviewText])\n",
        "        g.add((Journal_uri, RDF.type, RegularConference))\n",
        "        for key, prop in properties.items():\n",
        "            if pd.notna(record[key]):\n",
        "                g.add((Journal_uri, prop, Literal(record[key])))\n",
        "\n",
        "process(dataframes['conference_detail'])"
      ]
    },
    {
      "cell_type": "markdown",
      "metadata": {
        "id": "genZiodWU4OT"
      },
      "source": [
        "## Load Property WorkshopIn"
      ]
    },
    {
      "cell_type": "code",
      "execution_count": 117,
      "metadata": {
        "colab": {
          "base_uri": "https://localhost:8080/",
          "height": 347
        },
        "id": "cEKkUmh5kFoe",
        "outputId": "59028fca-8c0f-4d36-9817-2abdffe06ae8"
      },
      "outputs": [
        {
          "name": "stderr",
          "output_type": "stream",
          "text": [
            "/var/folders/n4/twvktyqn38z2rzx703mm67pc0000gn/T/ipykernel_17239/2437827571.py:16: FutureWarning: Setting an item of incompatible dtype is deprecated and will raise in a future error of pandas. Value '2023 international conference on integration of computational intelligent system, icicis 2023' has dtype incompatible with float64, please explicitly cast to a compatible dtype first.\n",
            "  paper_presented_in_conference.at[i, 'proceeding_name'] = match['proceeding_name'].values[0]\n",
            "/var/folders/n4/twvktyqn38z2rzx703mm67pc0000gn/T/ipykernel_17239/2437827571.py:13: UserWarning: This pattern is interpreted as a regular expression, and has match groups. To actually get the groups, use str.extract.\n",
            "  match = conference_detail[conference_detail['proceeding_name'].str.contains(end_id, na=False)]\n"
          ]
        },
        {
          "data": {
            "text/html": [
              "<div>\n",
              "<style scoped>\n",
              "    .dataframe tbody tr th:only-of-type {\n",
              "        vertical-align: middle;\n",
              "    }\n",
              "\n",
              "    .dataframe tbody tr th {\n",
              "        vertical-align: top;\n",
              "    }\n",
              "\n",
              "    .dataframe thead th {\n",
              "        text-align: right;\n",
              "    }\n",
              "</style>\n",
              "<table border=\"1\" class=\"dataframe\">\n",
              "  <thead>\n",
              "    <tr style=\"text-align: right;\">\n",
              "      <th></th>\n",
              "      <th>start_id</th>\n",
              "      <th>end_id</th>\n",
              "      <th>proceeding_name</th>\n",
              "      <th>IsWorkshop</th>\n",
              "    </tr>\n",
              "  </thead>\n",
              "  <tbody>\n",
              "    <tr>\n",
              "      <th>0</th>\n",
              "      <td>10.1109/ICICIS56802.2023.10430275</td>\n",
              "      <td>international conference on integration of com...</td>\n",
              "      <td>2023 international conference on integration o...</td>\n",
              "      <td>False</td>\n",
              "    </tr>\n",
              "    <tr>\n",
              "      <th>1</th>\n",
              "      <td>10.1145/3592307.3592335</td>\n",
              "      <td>international conference on electronics, commu...</td>\n",
              "      <td>6th international conference on electronics, c...</td>\n",
              "      <td>False</td>\n",
              "    </tr>\n",
              "    <tr>\n",
              "      <th>2</th>\n",
              "      <td>10.1109/NEleX59773.2023.10421720</td>\n",
              "      <td>ieee international conference on next generati...</td>\n",
              "      <td>2023 ieee international conference on next gen...</td>\n",
              "      <td>True</td>\n",
              "    </tr>\n",
              "    <tr>\n",
              "      <th>3</th>\n",
              "      <td>10.4230/LIPIcs.ICDT.2023.14</td>\n",
              "      <td>international conference on database theory, icdt</td>\n",
              "      <td>22th international conference on database theo...</td>\n",
              "      <td>True</td>\n",
              "    </tr>\n",
              "    <tr>\n",
              "      <th>4</th>\n",
              "      <td>10.4230/LIPIcs.ICDT.2023.7</td>\n",
              "      <td>international conference on database theory, icdt</td>\n",
              "      <td>22th international conference on database theo...</td>\n",
              "      <td>True</td>\n",
              "    </tr>\n",
              "  </tbody>\n",
              "</table>\n",
              "</div>"
            ],
            "text/plain": [
              "                            start_id  \\\n",
              "0  10.1109/ICICIS56802.2023.10430275   \n",
              "1            10.1145/3592307.3592335   \n",
              "2   10.1109/NEleX59773.2023.10421720   \n",
              "3        10.4230/LIPIcs.ICDT.2023.14   \n",
              "4         10.4230/LIPIcs.ICDT.2023.7   \n",
              "\n",
              "                                              end_id  \\\n",
              "0  international conference on integration of com...   \n",
              "1  international conference on electronics, commu...   \n",
              "2  ieee international conference on next generati...   \n",
              "3  international conference on database theory, icdt   \n",
              "4  international conference on database theory, icdt   \n",
              "\n",
              "                                     proceeding_name  IsWorkshop  \n",
              "0  2023 international conference on integration o...       False  \n",
              "1  6th international conference on electronics, c...       False  \n",
              "2  2023 ieee international conference on next gen...        True  \n",
              "3  22th international conference on database theo...        True  \n",
              "4  22th international conference on database theo...        True  "
            ]
          },
          "execution_count": 117,
          "metadata": {},
          "output_type": "execute_result"
        }
      ],
      "source": [
        "conference_detail = dataframes['conference_detail']\n",
        "paper_presented_in_conference = dataframes['paper_presented_in_conference']\n",
        "\n",
        "# Remove leading and trailing spaces and convert the string to lowercase to ensure a match\n",
        "conference_detail['proceeding_name'] = conference_detail['proceeding_name'].str.strip().str.lower()\n",
        "paper_presented_in_conference['end_id'] = paper_presented_in_conference['end_id'].str.strip().str.lower()\n",
        "\n",
        "# Create New Column to Save IsWorkshop\n",
        "paper_presented_in_conference['IsWorkshop'] = False\n",
        "\n",
        "# Check for inclusion relationships and update the IsWorkshop column\n",
        "for i, end_id in paper_presented_in_conference['end_id'].items():\n",
        "    match = conference_detail[conference_detail['proceeding_name'].str.contains(end_id, na=False)]\n",
        "    if not match.empty:\n",
        "        paper_presented_in_conference.at[i, 'IsWorkshop'] = match['IsWorkshop'].values[0]\n",
        "        paper_presented_in_conference.at[i, 'proceeding_name'] = match['proceeding_name'].values[0]\n",
        "\n",
        "# Select Columns Needed\n",
        "paper_presented_in_workshop = paper_presented_in_conference[['start_id', 'end_id', 'proceeding_name', 'IsWorkshop']]\n",
        "\n",
        "paper_presented_in_workshop.head(5)"
      ]
    },
    {
      "cell_type": "code",
      "execution_count": 118,
      "metadata": {
        "id": "nYaFrU8XmF0b"
      },
      "outputs": [],
      "source": [
        "WorkshopIn = URI.WorkshopIn\n",
        "\n",
        "properties = {\n",
        "    \"start_id\": URI.start_id,\n",
        "    \"end_id\": URI.end_id,\n",
        "    \"IsWorkshop\": URI.IsWorkshop,\n",
        "    \"proceeding_name\": URI.proceeding_name\n",
        "}\n",
        "\n",
        "def process(df):\n",
        "    for _, record in df.iterrows():\n",
        "      if record['IsWorkshop']:\n",
        "        # Create URIs\n",
        "        firstText = urllib.parse.quote(\"Workshop_\" + str(record['end_id']))  # URL Code\n",
        "        firstText_uri = URIRef(URI[firstText])\n",
        "        secondText = urllib.parse.quote(\"Proceedings_\" + str(record['proceeding_name']))  # URL Code\n",
        "        secondText_uri = URIRef(URI[secondText])\n",
        "\n",
        "        # Add the relationship to the graph\n",
        "        g.add((firstText_uri, WorkshopIn, secondText_uri))\n",
        "\n",
        "process(paper_presented_in_workshop)"
      ]
    },
    {
      "cell_type": "markdown",
      "metadata": {
        "id": "zfo6d8QVVBEY"
      },
      "source": [
        "## Load Property ConIn"
      ]
    },
    {
      "cell_type": "code",
      "execution_count": 119,
      "metadata": {
        "id": "szGEMid3VHX_"
      },
      "outputs": [],
      "source": [
        "ConIn = URI.ConIn\n",
        "\n",
        "properties = {\n",
        "    \"start_id\": URI.start_id,\n",
        "    \"end_id\": URI.end_id,\n",
        "    \"IsWorkshop\": URI.IsWorkshop,\n",
        "    \"proceeding_name\": URI.proceeding_name\n",
        "}\n",
        "\n",
        "def process(df):\n",
        "    for _, record in df.iterrows():\n",
        "      if not record['IsWorkshop']:\n",
        "        # Create URIs\n",
        "        firstText = urllib.parse.quote(\"Workshop_\" + str(record['end_id']))  # URL Code\n",
        "        firstText_uri = URIRef(URI[firstText])\n",
        "        secondText = urllib.parse.quote(\"Proceedings_\" + str(record['proceeding_name']))  # URL Code\n",
        "        secondText_uri = URIRef(URI[secondText])\n",
        "\n",
        "        # Add the relationship to the graph\n",
        "        g.add((firstText_uri, ConIn, secondText_uri))\n",
        "\n",
        "process(paper_presented_in_workshop)"
      ]
    },
    {
      "cell_type": "markdown",
      "metadata": {
        "id": "RfXwxnizVHsV"
      },
      "source": [
        "## Load Property IsInProceeding"
      ]
    },
    {
      "cell_type": "code",
      "execution_count": 120,
      "metadata": {
        "colab": {
          "base_uri": "https://localhost:8080/",
          "height": 143
        },
        "id": "HVzBptyoVO22",
        "outputId": "4302d897-49bd-4f57-95ae-5e4bd2a2e28c"
      },
      "outputs": [
        {
          "data": {
            "text/html": [
              "<div>\n",
              "<style scoped>\n",
              "    .dataframe tbody tr th:only-of-type {\n",
              "        vertical-align: middle;\n",
              "    }\n",
              "\n",
              "    .dataframe tbody tr th {\n",
              "        vertical-align: top;\n",
              "    }\n",
              "\n",
              "    .dataframe thead th {\n",
              "        text-align: right;\n",
              "    }\n",
              "</style>\n",
              "<table border=\"1\" class=\"dataframe\">\n",
              "  <thead>\n",
              "    <tr style=\"text-align: right;\">\n",
              "      <th></th>\n",
              "      <th>start_id</th>\n",
              "      <th>end_id</th>\n",
              "    </tr>\n",
              "  </thead>\n",
              "  <tbody>\n",
              "    <tr>\n",
              "      <th>0</th>\n",
              "      <td>10.1145/3623509.3633352</td>\n",
              "      <td>ACM International Conference Proceeding Series</td>\n",
              "    </tr>\n",
              "    <tr>\n",
              "      <th>1</th>\n",
              "      <td>10.1051/e3sconf/202448204001</td>\n",
              "      <td>E3S Web of Conferences</td>\n",
              "    </tr>\n",
              "    <tr>\n",
              "      <th>2</th>\n",
              "      <td>10.1145/3636243.3636263</td>\n",
              "      <td>ACM International Conference Proceeding Series</td>\n",
              "    </tr>\n",
              "  </tbody>\n",
              "</table>\n",
              "</div>"
            ],
            "text/plain": [
              "                       start_id  \\\n",
              "0       10.1145/3623509.3633352   \n",
              "1  10.1051/e3sconf/202448204001   \n",
              "2       10.1145/3636243.3636263   \n",
              "\n",
              "                                           end_id  \n",
              "0  ACM International Conference Proceeding Series  \n",
              "1                          E3S Web of Conferences  \n",
              "2  ACM International Conference Proceeding Series  "
            ]
          },
          "execution_count": 120,
          "metadata": {},
          "output_type": "execute_result"
        }
      ],
      "source": [
        "dataframes['paper_belong_to_proceeding'].head(3)"
      ]
    },
    {
      "cell_type": "code",
      "execution_count": 121,
      "metadata": {
        "id": "KOBi1F_ZVO_r"
      },
      "outputs": [],
      "source": [
        "IsInProceeding = URI.IsInProceeding\n",
        "\n",
        "properties = {\n",
        "    \"start_id\": URI.start_id,\n",
        "    \"end_id\": URI.end_id\n",
        "}\n",
        "\n",
        "def process(df):\n",
        "    for _, record in df.iterrows():\n",
        "        # Create URIs\n",
        "        firstText = urllib.parse.quote(\"ResearchPaper_\" + str(record['start_id']))  # URL Code\n",
        "        firstText_uri = URIRef(URI[firstText])\n",
        "        secondText = urllib.parse.quote(\"Conference_\" + str(record['end_id']))  # URL Code\n",
        "        secondText_uri = URIRef(URI[secondText])\n",
        "\n",
        "        # Add the relationship to the graph\n",
        "        g.add((firstText_uri, IsInProceeding, secondText_uri))\n",
        "\n",
        "process(dataframes['paper_belong_to_proceeding'])"
      ]
    },
    {
      "cell_type": "markdown",
      "metadata": {
        "id": "rBYtIvcqWicX"
      },
      "source": [
        "## Load Property IsInJournal"
      ]
    },
    {
      "cell_type": "code",
      "execution_count": 122,
      "metadata": {
        "colab": {
          "base_uri": "https://localhost:8080/",
          "height": 143
        },
        "id": "Uh1wzKruw1-U",
        "outputId": "a34b31f9-bc6d-4bb7-bea0-79d1c8ceeddd"
      },
      "outputs": [
        {
          "data": {
            "text/html": [
              "<div>\n",
              "<style scoped>\n",
              "    .dataframe tbody tr th:only-of-type {\n",
              "        vertical-align: middle;\n",
              "    }\n",
              "\n",
              "    .dataframe tbody tr th {\n",
              "        vertical-align: top;\n",
              "    }\n",
              "\n",
              "    .dataframe thead th {\n",
              "        text-align: right;\n",
              "    }\n",
              "</style>\n",
              "<table border=\"1\" class=\"dataframe\">\n",
              "  <thead>\n",
              "    <tr style=\"text-align: right;\">\n",
              "      <th></th>\n",
              "      <th>DOI</th>\n",
              "      <th>volume</th>\n",
              "    </tr>\n",
              "  </thead>\n",
              "  <tbody>\n",
              "    <tr>\n",
              "      <th>0</th>\n",
              "      <td>10.1002/asi.24855</td>\n",
              "      <td>Journal of the Association for Information Sci...</td>\n",
              "    </tr>\n",
              "    <tr>\n",
              "      <th>1</th>\n",
              "      <td>10.3390/s24041209</td>\n",
              "      <td>Sensors (2022)</td>\n",
              "    </tr>\n",
              "    <tr>\n",
              "      <th>2</th>\n",
              "      <td>10.1007/s11042-023-16751-6</td>\n",
              "      <td>Multimedia Tools and Applications (2024)</td>\n",
              "    </tr>\n",
              "  </tbody>\n",
              "</table>\n",
              "</div>"
            ],
            "text/plain": [
              "                          DOI  \\\n",
              "0           10.1002/asi.24855   \n",
              "1           10.3390/s24041209   \n",
              "2  10.1007/s11042-023-16751-6   \n",
              "\n",
              "                                              volume  \n",
              "0  Journal of the Association for Information Sci...  \n",
              "1                                     Sensors (2022)  \n",
              "2           Multimedia Tools and Applications (2024)  "
            ]
          },
          "execution_count": 122,
          "metadata": {},
          "output_type": "execute_result"
        }
      ],
      "source": [
        "merged_df = pd.merge(\n",
        "    dataframes['paper'],\n",
        "    dataframes['paper_belong_to_journal'],\n",
        "    left_on='DOI',\n",
        "    right_on='start_id',\n",
        "    how='inner'\n",
        ")\n",
        "\n",
        "# Create 'volume' column，Combine 'end_id' and 'year' column\n",
        "merged_df['volume'] = merged_df.apply(lambda row: f\"{row['end_id']} ({row['year']})\", axis=1)\n",
        "\n",
        "# Select columns\n",
        "paper_belong_to_volume = merged_df[['DOI', 'volume']]\n",
        "\n",
        "paper_belong_to_volume.head(3)"
      ]
    },
    {
      "cell_type": "code",
      "execution_count": 123,
      "metadata": {
        "id": "1EHvJUjCWm2m"
      },
      "outputs": [],
      "source": [
        "IsInJournal = URI.IsInJournal\n",
        "\n",
        "properties = {\n",
        "    \"DOI\": URI.DOI,\n",
        "    \"volume\": URI.volume\n",
        "}\n",
        "\n",
        "def process(df):\n",
        "    for _, record in df.iterrows():\n",
        "        # Create URIs\n",
        "        firstText = urllib.parse.quote(\"ResearchPaper_\" + str(record['DOI']))  # URL Code\n",
        "        firstText_uri = URIRef(URI[firstText])\n",
        "        secondText = urllib.parse.quote(\"Volumes_\" + str(record['volume']))  # URL Code\n",
        "        secondText_uri = URIRef(URI[secondText])\n",
        "\n",
        "        # Add the relationship to the graph\n",
        "        g.add((firstText_uri, IsInJournal, secondText_uri))\n",
        "\n",
        "process(paper_belong_to_volume)"
      ]
    },
    {
      "cell_type": "markdown",
      "metadata": {
        "id": "hIDXwnzBSLnV"
      },
      "source": [
        "# Export graph"
      ]
    },
    {
      "cell_type": "code",
      "execution_count": 124,
      "metadata": {
        "colab": {
          "base_uri": "https://localhost:8080/"
        },
        "id": "WaygSMKdS6IX",
        "outputId": "68e6712b-28bd-40f5-81cd-bbb53c2fb4b3"
      },
      "outputs": [
        {
          "name": "stdout",
          "output_type": "stream",
          "text": [
            "(rdflib.term.URIRef('http://SDM_lab_2.org/Author_8859945700'), rdflib.term.URIRef('http://www.w3.org/1999/02/22-rdf-syntax-ns#type'), rdflib.term.URIRef('http://SDM_lab_2.org/Author'))\n",
            "(rdflib.term.URIRef('http://SDM_lab_2.org/Reviewer_58897001100'), rdflib.term.URIRef('http://SDM_lab_2.org/WriteReview'), rdflib.term.URIRef('http://SDM_lab_2.org/SubmittedPaper_10.1109/TNET.2024.3352029'))\n",
            "(rdflib.term.URIRef('http://SDM_lab_2.org/Reviewer_57762424900'), rdflib.term.URIRef('http://SDM_lab_2.org/AcceptPossibility'), rdflib.term.Literal('0.8059984858614481', datatype=rdflib.term.URIRef('http://www.w3.org/2001/XMLSchema#double')))\n",
            "(rdflib.term.URIRef('http://SDM_lab_2.org/Author_58865334700'), rdflib.term.URIRef('http://SDM_lab_2.org/AuthorName'), rdflib.term.Literal('Shi Y.'))\n",
            "(rdflib.term.URIRef('http://SDM_lab_2.org/Author_57224980204'), rdflib.term.URIRef('http://SDM_lab_2.org/Write'), rdflib.term.URIRef('http://SDM_lab_2.org/ResearchPaper_10.1016/j.ins.2024.120272'))\n"
          ]
        }
      ],
      "source": [
        "for stmt in islice(g, 5):\n",
        "    print(stmt)"
      ]
    },
    {
      "cell_type": "code",
      "execution_count": 125,
      "metadata": {
        "colab": {
          "base_uri": "https://localhost:8080/"
        },
        "id": "zzI1NlBSSNX8",
        "outputId": "0b4d8109-1622-496e-e0de-7f4a73c43620"
      },
      "outputs": [
        {
          "data": {
            "text/plain": [
              "<Graph identifier=Nf65694c4954d46a7a918b31cbeb40be4 (<class 'rdflib.graph.Graph'>)>"
            ]
          },
          "execution_count": 125,
          "metadata": {},
          "output_type": "execute_result"
        }
      ],
      "source": [
        "# Export as Turtle\n",
        "g.serialize(destination='/Users/zzy13/Desktop/Classes_at_UPC/SDM_Semantic_data_management/Lab_2/Lab_doc/data/abox_2.ttl', format='turtle')"
      ]
    }
  ],
  "metadata": {
    "colab": {
      "provenance": [],
      "toc_visible": true
    },
    "kernelspec": {
      "display_name": "Python 3",
      "name": "python3"
    },
    "language_info": {
      "codemirror_mode": {
        "name": "ipython",
        "version": 3
      },
      "file_extension": ".py",
      "mimetype": "text/x-python",
      "name": "python",
      "nbconvert_exporter": "python",
      "pygments_lexer": "ipython3",
      "version": "3.11.8"
    }
  },
  "nbformat": 4,
  "nbformat_minor": 0
}
