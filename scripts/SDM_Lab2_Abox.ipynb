{
  "nbformat": 4,
  "nbformat_minor": 0,
  "metadata": {
    "colab": {
      "provenance": []
    },
    "kernelspec": {
      "name": "python3",
      "display_name": "Python 3"
    },
    "language_info": {
      "name": "python"
    }
  },
  "cells": [
    {
      "cell_type": "code",
      "source": [
        "pip install rdflib"
      ],
      "metadata": {
        "colab": {
          "base_uri": "https://localhost:8080/"
        },
        "id": "HJLKnZeWBsgv",
        "outputId": "0dee596b-14e4-4129-b386-bba718dbd7d3"
      },
      "execution_count": 3,
      "outputs": [
        {
          "output_type": "stream",
          "name": "stdout",
          "text": [
            "Collecting rdflib\n",
            "  Downloading rdflib-7.0.0-py3-none-any.whl (531 kB)\n",
            "\u001b[?25l     \u001b[90m━━━━━━━━━━━━━━━━━━━━━━━━━━━━━━━━━━━━━━━━\u001b[0m \u001b[32m0.0/531.9 kB\u001b[0m \u001b[31m?\u001b[0m eta \u001b[36m-:--:--\u001b[0m\r\u001b[2K     \u001b[91m━━━━━━━━━━━━━━━━━━\u001b[0m\u001b[90m╺\u001b[0m\u001b[90m━━━━━━━━━━━━━━━━━━━━━\u001b[0m \u001b[32m245.8/531.9 kB\u001b[0m \u001b[31m7.7 MB/s\u001b[0m eta \u001b[36m0:00:01\u001b[0m\r\u001b[2K     \u001b[90m━━━━━━━━━━━━━━━━━━━━━━━━━━━━━━━━━━━━━━━━\u001b[0m \u001b[32m531.9/531.9 kB\u001b[0m \u001b[31m8.6 MB/s\u001b[0m eta \u001b[36m0:00:00\u001b[0m\n",
            "\u001b[?25hCollecting isodate<0.7.0,>=0.6.0 (from rdflib)\n",
            "  Downloading isodate-0.6.1-py2.py3-none-any.whl (41 kB)\n",
            "\u001b[?25l     \u001b[90m━━━━━━━━━━━━━━━━━━━━━━━━━━━━━━━━━━━━━━━━\u001b[0m \u001b[32m0.0/41.7 kB\u001b[0m \u001b[31m?\u001b[0m eta \u001b[36m-:--:--\u001b[0m\r\u001b[2K     \u001b[90m━━━━━━━━━━━━━━━━━━━━━━━━━━━━━━━━━━━━━━━━\u001b[0m \u001b[32m41.7/41.7 kB\u001b[0m \u001b[31m6.3 MB/s\u001b[0m eta \u001b[36m0:00:00\u001b[0m\n",
            "\u001b[?25hRequirement already satisfied: pyparsing<4,>=2.1.0 in /usr/local/lib/python3.10/dist-packages (from rdflib) (3.1.2)\n",
            "Requirement already satisfied: six in /usr/local/lib/python3.10/dist-packages (from isodate<0.7.0,>=0.6.0->rdflib) (1.16.0)\n",
            "Installing collected packages: isodate, rdflib\n",
            "Successfully installed isodate-0.6.1 rdflib-7.0.0\n"
          ]
        }
      ]
    },
    {
      "cell_type": "code",
      "execution_count": 4,
      "metadata": {
        "id": "hekRcO0G_Qzn"
      },
      "outputs": [],
      "source": [
        "import pandas as pd\n",
        "import random\n",
        "import csv\n",
        "from rdflib import Graph\n",
        "from rdflib import Namespace\n",
        "from rdflib import Literal\n",
        "from rdflib.namespace import RDF, RDFS, FOAF, XSD, URIRef"
      ]
    },
    {
      "cell_type": "code",
      "source": [
        "Abox = Namespace(\"http://SDM_LAB2.org/abox/\")\n",
        "\n",
        "g = Graph()\n",
        "g.bind(\"abox\", Abox)\n",
        "\n",
        "# Define URIRefs\n",
        "ResearchPaper = URIRef(Abox[\"ResearchPaper\"])\n",
        "SubmittedPaper = URIRef(Abox[\"SubmittedPaper\"])\n",
        "Author = URIRef(Abox[\"Author\"])\n",
        "Person = URIRef(Abox[\"Person\"])\n",
        "Reviewer = URIRef(Abox[\"Reviewer\"])\n",
        "Volumes = URIRef(Abox[\"Volumes\"])\n",
        "Proceedings = URIRef(Abox[\"Proceedings\"])\n",
        "Topics = URIRef(Abox[\"Topics\"])\n",
        "Workshop = URIRef(Abox[\"Workshop\"])\n",
        "RegularConference = URIRef(Abox[\"RegularConference\"])\n",
        "Conference = URIRef(Abox[\"Conference\"])\n",
        "Venue = URIRef(Abox[\"Venue\"])\n",
        "Journal = URIRef(Abox[\"Journal\"])\n",
        "\n",
        "# Read CSV\n",
        "csv_files = [\n",
        "    \"abstracts-sample.csv\",\n",
        "    \"affiliated-to.csv\",\n",
        "    \"authors-sample.csv\",\n",
        "    \"belongs-to.csv\",\n",
        "    \"categoriesRelations.csv\",\n",
        "    \"citations-sample.csv\",\n",
        "    \"cited-by.csv\",\n",
        "    \"companies.csv\",\n",
        "    \"conferences.csv\",\n",
        "    \"is-from.csv\",\n",
        "    \"journals.csv\",\n",
        "    \"keywords.csv\",\n",
        "    \"paper-ids-sample.csv\",\n",
        "    \"papers-processed.csv\",\n",
        "    \"papers-sample.csv\",\n",
        "    \"publication-venues-sample.csv\",\n",
        "    \"published-in.csv\",\n",
        "    \"related-to.csv\",\n",
        "    \"reviewed-by.csv\",\n",
        "    \"reviews.csv\",\n",
        "    \"universities.csv\",\n",
        "    \"volume-from.csv\",\n",
        "    \"withAbstracts.csv\",\n",
        "    \"written-by.csv\"\n",
        "]"
      ],
      "metadata": {
        "id": "85ywbdjgAyjs"
      },
      "execution_count": 6,
      "outputs": []
    },
    {
      "cell_type": "markdown",
      "source": [
        "## Load authors"
      ],
      "metadata": {
        "id": "1F71UGMdFPGx"
      }
    },
    {
      "cell_type": "code",
      "source": [
        "hasName = URIRef(Abox[\"hasName\"])\n",
        "hasAlias = URIRef(Abox[\"hasAlias\"])\n",
        "hasAffiliation = URIRef(Abox[\"hasAffiliation\"])\n",
        "hasHomepage = URIRef(Abox[\"hasHomepage\"])\n",
        "hasPaperCount = URIRef(Abox[\"hasPaperCount\"])\n",
        "hasCitationCount = URIRef(Abox[\"hasCitationCount\"])\n",
        "hasHIndex = URIRef(Abox[\"hasHIndex\"])\n",
        "\n",
        "with open('/content/drive/MyDrive/SDM_lab2/data/CSVs/authors-sample.csv', newline='', encoding='utf-8') as csvfile:\n",
        "    reader = csv.DictReader(csvfile)\n",
        "    for row in reader:\n",
        "        author = URIRef(Abox[row['authorid']])\n",
        "        g.add((author, RDF.type, Author))\n",
        "        g.add((author, hasName, Literal(row['name'])))\n",
        "        g.add((author, hasAlias, Literal(row['aliases'])))\n",
        "        g.add((author, hasAffiliation, Literal(row['affiliations'])))\n",
        "        g.add((author, hasHomepage, Literal(row['homepage'])))\n",
        "        g.add((author, hasPaperCount, Literal(row['papercount'])))\n",
        "        g.add((author, hasCitationCount, Literal(row['citationcount'])))\n",
        "        g.add((author, hasHIndex, Literal(row['hindex'])))\n",
        "\n",
        "# Save as Turtle Format\n",
        "g.serialize(destination='/content/drive/MyDrive/SDM_lab2/data/CSVs/output.ttl', format='turtle')\n",
        "\n",
        "print(\"RDF Data Load Successfully\")"
      ],
      "metadata": {
        "colab": {
          "base_uri": "https://localhost:8080/"
        },
        "id": "isWgXWGbC-AC",
        "outputId": "171cedd0-b3a4-461e-8fd4-0193f92385a1"
      },
      "execution_count": 13,
      "outputs": [
        {
          "output_type": "stream",
          "name": "stdout",
          "text": [
            "RDF Data Load Successfully\n"
          ]
        }
      ]
    }
  ]
}